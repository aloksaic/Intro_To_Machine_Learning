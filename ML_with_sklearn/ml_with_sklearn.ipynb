{
  "nbformat": 4,
  "nbformat_minor": 0,
  "metadata": {
    "colab": {
      "provenance": [],
      "collapsed_sections": []
    },
    "kernelspec": {
      "name": "python3",
      "display_name": "Python 3"
    },
    "language_info": {
      "name": "python"
    }
  },
  "cells": [
    {
      "cell_type": "markdown",
      "source": [
        "# Portfolio Assignment: Machine Learning with sklearn\n",
        "#### Aloksai Choudari (axc190063)\n",
        "#### CS 4375.003\n",
        "#### 11/3/2022"
      ],
      "metadata": {
        "id": "88P7x9KjaRt_"
      }
    },
    {
      "cell_type": "markdown",
      "source": [
        "# Read Auto data"
      ],
      "metadata": {
        "id": "IKNk6RDLbsfb"
      }
    },
    {
      "cell_type": "code",
      "source": [
        "# importing pandas library and read Auto.csv\n",
        "import pandas as pd\n",
        "df = pd.read_csv('Auto.csv')"
      ],
      "metadata": {
        "id": "qfW-oDQfcmC6"
      },
      "execution_count": null,
      "outputs": []
    },
    {
      "cell_type": "code",
      "source": [
        "# print top 5 rows of data\n",
        "print(df.head(5))"
      ],
      "metadata": {
        "id": "h7sW-s23eTeB",
        "colab": {
          "base_uri": "https://localhost:8080/"
        },
        "outputId": "13962bb2-dfff-467f-eb75-dd86c961ea0c"
      },
      "execution_count": null,
      "outputs": [
        {
          "output_type": "stream",
          "name": "stdout",
          "text": [
            "    mpg  cylinders  displacement  horsepower  weight  acceleration  year  \\\n",
            "0  18.0          8         307.0         130    3504          12.0  70.0   \n",
            "1  15.0          8         350.0         165    3693          11.5  70.0   \n",
            "2  18.0          8         318.0         150    3436          11.0  70.0   \n",
            "3  16.0          8         304.0         150    3433          12.0  70.0   \n",
            "4  17.0          8         302.0         140    3449           NaN  70.0   \n",
            "\n",
            "   origin                       name  \n",
            "0       1  chevrolet chevelle malibu  \n",
            "1       1          buick skylark 320  \n",
            "2       1         plymouth satellite  \n",
            "3       1              amc rebel sst  \n",
            "4       1                ford torino  \n"
          ]
        }
      ]
    },
    {
      "cell_type": "code",
      "source": [
        "# print the data dimensions\n",
        "print(df.shape)"
      ],
      "metadata": {
        "colab": {
          "base_uri": "https://localhost:8080/"
        },
        "id": "2YDuSBNJfH-G",
        "outputId": "ec305927-a4d4-47ff-9385-404ddf1f6144"
      },
      "execution_count": null,
      "outputs": [
        {
          "output_type": "stream",
          "name": "stdout",
          "text": [
            "(392, 9)\n"
          ]
        }
      ]
    },
    {
      "cell_type": "markdown",
      "source": [
        "# Data exploration"
      ],
      "metadata": {
        "id": "dVl-KY6PbxFz"
      }
    },
    {
      "cell_type": "code",
      "source": [
        "# describe() mpg, weight, and year\n",
        "print(df.loc[:, ['mpg', 'weight', 'year']].describe())\n",
        "\n",
        "# mpg - average: 23.445918, range: 37.6\n",
        "# weight - average: 2977.584184, range: 3527\n",
        "# year - average: 76.010256, range: 12"
      ],
      "metadata": {
        "colab": {
          "base_uri": "https://localhost:8080/"
        },
        "id": "tVMDpAengIGr",
        "outputId": "c61d2816-4dd4-48b1-d79b-42c7acefc4e4"
      },
      "execution_count": null,
      "outputs": [
        {
          "output_type": "stream",
          "name": "stdout",
          "text": [
            "              mpg       weight        year\n",
            "count  392.000000   392.000000  390.000000\n",
            "mean    23.445918  2977.584184   76.010256\n",
            "std      7.805007   849.402560    3.668093\n",
            "min      9.000000  1613.000000   70.000000\n",
            "25%     17.000000  2225.250000   73.000000\n",
            "50%     22.750000  2803.500000   76.000000\n",
            "75%     29.000000  3614.750000   79.000000\n",
            "max     46.600000  5140.000000   82.000000\n"
          ]
        }
      ]
    },
    {
      "cell_type": "markdown",
      "source": [
        "### 3. Explore data types"
      ],
      "metadata": {
        "id": "sgTIO0Y0b0Zi"
      }
    },
    {
      "cell_type": "code",
      "source": [
        "# check data types\n",
        "print(df.dtypes)"
      ],
      "metadata": {
        "colab": {
          "base_uri": "https://localhost:8080/"
        },
        "id": "n-Jy-s8aiRm7",
        "outputId": "af0e6a25-b0c1-49b0-95b7-d2bb5515c402"
      },
      "execution_count": null,
      "outputs": [
        {
          "output_type": "stream",
          "name": "stdout",
          "text": [
            "mpg             float64\n",
            "cylinders         int64\n",
            "displacement    float64\n",
            "horsepower        int64\n",
            "weight            int64\n",
            "acceleration    float64\n",
            "year            float64\n",
            "origin            int64\n",
            "name             object\n",
            "dtype: object\n"
          ]
        }
      ]
    },
    {
      "cell_type": "code",
      "source": [
        "# make cylinders column categorical\n",
        "df.cylinders = df.cylinders.astype('category').cat.codes"
      ],
      "metadata": {
        "id": "YdJ5Zi4kiYFP"
      },
      "execution_count": null,
      "outputs": []
    },
    {
      "cell_type": "code",
      "source": [
        "# make origin column categorical\n",
        "df.origin = df.origin.astype('category')"
      ],
      "metadata": {
        "id": "0mMS0V30icgq"
      },
      "execution_count": null,
      "outputs": []
    },
    {
      "cell_type": "code",
      "source": [
        "# check data types again\n",
        "print(df.dtypes)"
      ],
      "metadata": {
        "colab": {
          "base_uri": "https://localhost:8080/"
        },
        "id": "jlEFdnzKifet",
        "outputId": "fe9c00c1-668c-4ca6-cd4f-39ff7a557098"
      },
      "execution_count": null,
      "outputs": [
        {
          "output_type": "stream",
          "name": "stdout",
          "text": [
            "mpg              float64\n",
            "cylinders           int8\n",
            "displacement     float64\n",
            "horsepower         int64\n",
            "weight             int64\n",
            "acceleration     float64\n",
            "year             float64\n",
            "origin          category\n",
            "name              object\n",
            "dtype: object\n"
          ]
        }
      ]
    },
    {
      "cell_type": "markdown",
      "source": [
        "# Deal with NAs"
      ],
      "metadata": {
        "id": "GlkG_LOob2kr"
      }
    },
    {
      "cell_type": "code",
      "source": [
        "# drop all NA rows\n",
        "df = df.dropna()"
      ],
      "metadata": {
        "id": "6_BB5OdIk3vh"
      },
      "execution_count": null,
      "outputs": []
    },
    {
      "cell_type": "code",
      "source": [
        "# print new data dimensions\n",
        "print(df.shape)"
      ],
      "metadata": {
        "colab": {
          "base_uri": "https://localhost:8080/"
        },
        "id": "4ztAzj4pk7rj",
        "outputId": "d7c88022-f3eb-4b71-92de-9cdc4da2184b"
      },
      "execution_count": null,
      "outputs": [
        {
          "output_type": "stream",
          "name": "stdout",
          "text": [
            "(389, 9)\n"
          ]
        }
      ]
    },
    {
      "cell_type": "markdown",
      "source": [
        "# Modify Columns"
      ],
      "metadata": {
        "id": "FxPxq5TMcKR2"
      }
    },
    {
      "cell_type": "code",
      "source": [
        "# make new mpg_high column\n",
        "mean = df.mpg.mean()\n",
        "df['mpg_high'] = df.mpg > mean\n",
        "df.mpg_high = df.mpg_high.astype('category').cat.codes"
      ],
      "metadata": {
        "id": "mKxypAbclK7D"
      },
      "execution_count": null,
      "outputs": []
    },
    {
      "cell_type": "code",
      "source": [
        "# drop mpg and name columns\n",
        "df = df.drop(columns=['mpg', 'name'])"
      ],
      "metadata": {
        "id": "hpe0HflllRvq"
      },
      "execution_count": null,
      "outputs": []
    },
    {
      "cell_type": "code",
      "source": [
        "# print top 5 rows of data\n",
        "print(df.head(5))"
      ],
      "metadata": {
        "colab": {
          "base_uri": "https://localhost:8080/"
        },
        "id": "7_lg-aLSpNN1",
        "outputId": "9c958795-1423-49a9-e633-9987e8ccdbbf"
      },
      "execution_count": null,
      "outputs": [
        {
          "output_type": "stream",
          "name": "stdout",
          "text": [
            "   cylinders  displacement  horsepower  weight  acceleration  year origin  \\\n",
            "0          4         307.0         130    3504          12.0  70.0      1   \n",
            "1          4         350.0         165    3693          11.5  70.0      1   \n",
            "2          4         318.0         150    3436          11.0  70.0      1   \n",
            "3          4         304.0         150    3433          12.0  70.0      1   \n",
            "6          4         454.0         220    4354           9.0  70.0      1   \n",
            "\n",
            "   mpg_high  \n",
            "0         0  \n",
            "1         0  \n",
            "2         0  \n",
            "3         0  \n",
            "6         0  \n"
          ]
        }
      ]
    },
    {
      "cell_type": "markdown",
      "source": [
        "# Data exploration with graphs"
      ],
      "metadata": {
        "id": "4jHdN8pDcO5Z"
      }
    },
    {
      "cell_type": "code",
      "source": [
        "# make a catplot for mpg_high\n",
        "import seaborn as sb\n",
        "sb.catplot(x='mpg_high', kind='count', data=df)"
      ],
      "metadata": {
        "colab": {
          "base_uri": "https://localhost:8080/",
          "height": 386
        },
        "id": "vRYkKV1hpHV7",
        "outputId": "f9422c6f-727d-4f04-c1b6-5d5bea68001e"
      },
      "execution_count": null,
      "outputs": [
        {
          "output_type": "execute_result",
          "data": {
            "text/plain": [
              "<seaborn.axisgrid.FacetGrid at 0x7f0a42bad310>"
            ]
          },
          "metadata": {},
          "execution_count": 57
        },
        {
          "output_type": "display_data",
          "data": {
            "text/plain": [
              "<Figure size 360x360 with 1 Axes>"
            ],
            "image/png": "[encoded data removed]"
          },
          "metadata": {
            "needs_background": "light"
          }
        }
      ]
    },
    {
      "cell_type": "markdown",
      "source": [
        "According to the first graph, most of the mpgs for the cars are below average."
      ],
      "metadata": {
        "id": "Ig2wSqJS2YDj"
      }
    },
    {
      "cell_type": "code",
      "source": [
        "# make a relplot with weight based on horsepower\n",
        "sb.relplot(x='horsepower', y='weight', data=df, hue=df.mpg_high, style=df.mpg_high)"
      ],
      "metadata": {
        "colab": {
          "base_uri": "https://localhost:8080/",
          "height": 386
        },
        "id": "lkCuq4xxrj1U",
        "outputId": "d0d82d44-db5b-4f52-d3d7-085a277b1ef0"
      },
      "execution_count": null,
      "outputs": [
        {
          "output_type": "execute_result",
          "data": {
            "text/plain": [
              "<seaborn.axisgrid.FacetGrid at 0x7f0a42b3d7d0>"
            ]
          },
          "metadata": {},
          "execution_count": 58
        },
        {
          "output_type": "display_data",
          "data": {
            "text/plain": [
              "<Figure size 417.25x360 with 1 Axes>"
            ],
            "image/png": "[encoded data removed]"
          },
          "metadata": {
            "needs_background": "light"
          }
        }
      ]
    },
    {
      "cell_type": "markdown",
      "source": [
        "According to this graph, the higher the horsepower, the more the car weighs plus more mpg."
      ],
      "metadata": {
        "id": "SiiynYSN2SL2"
      }
    },
    {
      "cell_type": "code",
      "source": [
        "# make a boxplot with weight based on mpg_high\n",
        "sb.boxplot(x='mpg_high', y='weight', data=df)"
      ],
      "metadata": {
        "colab": {
          "base_uri": "https://localhost:8080/",
          "height": 297
        },
        "id": "dPgVhBIbsb0n",
        "outputId": "72df0dd1-5bdf-4ce5-e38c-c00f39f584bf"
      },
      "execution_count": null,
      "outputs": [
        {
          "output_type": "execute_result",
          "data": {
            "text/plain": [
              "<matplotlib.axes._subplots.AxesSubplot at 0x7f0a43d0b790>"
            ]
          },
          "metadata": {},
          "execution_count": 59
        },
        {
          "output_type": "display_data",
          "data": {
            "text/plain": [
              "<Figure size 432x288 with 1 Axes>"
            ],
            "image/png": "[encoded data removed]"
          },
          "metadata": {
            "needs_background": "light"
          }
        }
      ]
    },
    {
      "cell_type": "markdown",
      "source": [
        "According to the graph, the lower the mpg the more the car weighs."
      ],
      "metadata": {
        "id": "ZcOIofLO2btQ"
      }
    },
    {
      "cell_type": "markdown",
      "source": [
        "# Train/test split"
      ],
      "metadata": {
        "id": "RBnEKbrmcTCn"
      }
    },
    {
      "cell_type": "code",
      "source": [
        "# seed 1234\n",
        "import random\n",
        "random.seed(1234)\n",
        "\n",
        "# split train/test\n",
        "from sklearn.model_selection import train_test_split\n",
        "X = df.loc[:, df.columns != 'mpg_high']\n",
        "y = df.mpg_high\n",
        "X_train, X_test, y_train, y_test = train_test_split(X, y, test_size=0.2, random_state=0)\n",
        "\n",
        "# print train/test dimensions\n",
        "print('train size:', X_train.shape)\n",
        "print('test size:', X_test.shape)"
      ],
      "metadata": {
        "colab": {
          "base_uri": "https://localhost:8080/"
        },
        "id": "NbkSiY4BuQLs",
        "outputId": "76884030-42b7-457a-faf6-849abab79a64"
      },
      "execution_count": null,
      "outputs": [
        {
          "output_type": "stream",
          "name": "stdout",
          "text": [
            "train size: (311, 7)\n",
            "test size: (78, 7)\n"
          ]
        }
      ]
    },
    {
      "cell_type": "markdown",
      "source": [
        "# Logistic Regression"
      ],
      "metadata": {
        "id": "YKtilbrDcWqi"
      }
    },
    {
      "cell_type": "code",
      "source": [
        "# logistic regression model (solver=lbfgs)\n",
        "from sklearn.linear_model import LogisticRegression\n",
        "lr = LogisticRegression(solver='lbfgs')\n",
        "lr.fit(X_train, y_train)\n",
        "print(lr.score(X_train, y_train))"
      ],
      "metadata": {
        "colab": {
          "base_uri": "https://localhost:8080/"
        },
        "id": "ZFi1kvO25RZd",
        "outputId": "b771604e-109f-4641-e048-d21e76d784e9"
      },
      "execution_count": null,
      "outputs": [
        {
          "output_type": "stream",
          "name": "stdout",
          "text": [
            "0.9035369774919614\n"
          ]
        }
      ]
    },
    {
      "cell_type": "code",
      "source": [
        "# test\n",
        "pred = lr.predict(X_test)\n",
        "\n",
        "# evaluate\n",
        "from sklearn.metrics import accuracy_score, precision_score, recall_score, f1_score\n",
        "print('Accuracy = ', accuracy_score(y_test, pred))\n",
        "print('Precision = ', precision_score(y_test, pred))\n",
        "print('Recall = ', recall_score(y_test, pred))\n",
        "print('F1 = ', f1_score(y_test, pred))"
      ],
      "metadata": {
        "colab": {
          "base_uri": "https://localhost:8080/"
        },
        "id": "mklPAxjg7akP",
        "outputId": "ad96aafd-dc30-4d23-c194-7e4b4e2a6549"
      },
      "execution_count": null,
      "outputs": [
        {
          "output_type": "stream",
          "name": "stdout",
          "text": [
            "Accuracy =  0.8589743589743589\n",
            "Precision =  0.7948717948717948\n",
            "Recall =  0.9117647058823529\n",
            "F1 =  0.8493150684931507\n"
          ]
        }
      ]
    },
    {
      "cell_type": "code",
      "source": [
        "# classification report\n",
        "from sklearn.metrics import classification_report\n",
        "print(classification_report(y_test, pred))"
      ],
      "metadata": {
        "colab": {
          "base_uri": "https://localhost:8080/"
        },
        "id": "oixDTZaM7-G3",
        "outputId": "81ed1e91-bea8-4c1b-d33b-74a4980fc2cf"
      },
      "execution_count": null,
      "outputs": [
        {
          "output_type": "stream",
          "name": "stdout",
          "text": [
            "              precision    recall  f1-score   support\n",
            "\n",
            "           0       0.92      0.82      0.87        44\n",
            "           1       0.79      0.91      0.85        34\n",
            "\n",
            "    accuracy                           0.86        78\n",
            "   macro avg       0.86      0.86      0.86        78\n",
            "weighted avg       0.87      0.86      0.86        78\n",
            "\n"
          ]
        }
      ]
    },
    {
      "cell_type": "markdown",
      "source": [
        "# Decision Tree"
      ],
      "metadata": {
        "id": "ZRCR8YaXcZ3K"
      }
    },
    {
      "cell_type": "code",
      "source": [
        "# decision tree\n",
        "from sklearn.tree import DecisionTreeClassifier\n",
        "dt = DecisionTreeClassifier()\n",
        "dt.fit(X_train, y_train)\n",
        "print(dt.score(X_train, y_train))"
      ],
      "metadata": {
        "colab": {
          "base_uri": "https://localhost:8080/"
        },
        "id": "18FiZqWF8VQq",
        "outputId": "ce1aad07-4219-4e5c-e21a-c9706260af90"
      },
      "execution_count": null,
      "outputs": [
        {
          "output_type": "stream",
          "name": "stdout",
          "text": [
            "1.0\n"
          ]
        }
      ]
    },
    {
      "cell_type": "code",
      "source": [
        "# test\n",
        "pred2 = dt.predict(X_test)\n",
        "\n",
        "# evaluate\n",
        "print('Accuracy = ', accuracy_score(y_test, pred2))\n",
        "print('Precision = ', precision_score(y_test, pred2))\n",
        "print('Recall = ', recall_score(y_test, pred2))\n",
        "print('F1 = ', f1_score(y_test, pred2))"
      ],
      "metadata": {
        "colab": {
          "base_uri": "https://localhost:8080/"
        },
        "id": "dG4oTi4q8XnO",
        "outputId": "6a9af4bc-860d-4624-b1cc-6e640dcbf606"
      },
      "execution_count": null,
      "outputs": [
        {
          "output_type": "stream",
          "name": "stdout",
          "text": [
            "Accuracy =  0.8974358974358975\n",
            "Precision =  0.8823529411764706\n",
            "Recall =  0.8823529411764706\n",
            "F1 =  0.8823529411764706\n"
          ]
        }
      ]
    },
    {
      "cell_type": "code",
      "source": [
        "# classification report\n",
        "print(classification_report(y_test, pred2))"
      ],
      "metadata": {
        "colab": {
          "base_uri": "https://localhost:8080/"
        },
        "id": "jRcvENDY8ZR4",
        "outputId": "ebef3a4e-f96b-4c23-cd2b-65eeeb9cb9d1"
      },
      "execution_count": null,
      "outputs": [
        {
          "output_type": "stream",
          "name": "stdout",
          "text": [
            "              precision    recall  f1-score   support\n",
            "\n",
            "           0       0.91      0.91      0.91        44\n",
            "           1       0.88      0.88      0.88        34\n",
            "\n",
            "    accuracy                           0.90        78\n",
            "   macro avg       0.90      0.90      0.90        78\n",
            "weighted avg       0.90      0.90      0.90        78\n",
            "\n"
          ]
        }
      ]
    },
    {
      "cell_type": "code",
      "source": [
        "# plot decision tree\n",
        "from sklearn import tree\n",
        "import graphviz\n",
        "data = tree.export_graphviz(dt, out_file=None, feature_names=X.columns, class_names=['0', '1'], filled=True, rounded=True)\n",
        "graphviz.Source(data)"
      ],
      "metadata": {
        "colab": {
          "base_uri": "https://localhost:8080/",
          "height": 1000
        },
        "id": "2itt6i2a8biQ",
        "outputId": "a27c9043-6b7e-4864-9d7d-b65dd62633fa"
      },
      "execution_count": null,
      "outputs": [
        {
          "output_type": "execute_result",
          "data": {
            "text/plain": [
              "<graphviz.files.Source at 0x7f0a421d9e10>"
            ],
            "image/svg+xml": "<?xml version=\"1.0\" encoding=\"UTF-8\" standalone=\"no\"?>\n<!DOCTYPE svg PUBLIC \"-//W3C//DTD SVG 1.1//EN\"\n \"http://www.w3.org/Graphics/SVG/1.1/DTD/svg11.dtd\">\n<!-- Generated by graphviz version 2.40.1 (20161225.0304)\n -->\n<!-- Title: Tree Pages: 1 -->\n<svg width=\"2158pt\" height=\"1028pt\"\n viewBox=\"0.00 0.00 2158.00 1028.00\" xmlns=\"http://www.w3.org/2000/svg\" xmlns:xlink=\"http://www.w3.org/1999/xlink\">\n<g id=\"graph0\" class=\"graph\" transform=\"scale(1 1) rotate(0) translate(4 1024)\">\n<title>Tree</title>\n<polygon fill=\"#ffffff\" stroke=\"transparent\" points=\"-4,4 -4,-1024 2154,-1024 2154,4 -4,4\"/>\n<!-- 0 -->\n<g id=\"node1\" class=\"node\">\n<title>0</title>\n<path fill=\"#fef9f6\" stroke=\"#000000\" d=\"M1783.5,-1020C1783.5,-1020 1643.5,-1020 1643.5,-1020 1637.5,-1020 1631.5,-1014 1631.5,-1008 1631.5,-1008 1631.5,-949 1631.5,-949 1631.5,-943 1637.5,-937 1643.5,-937 1643.5,-937 1783.5,-937 1783.5,-937 1789.5,-937 1795.5,-943 1795.5,-949 1795.5,-949 1795.5,-1008 1795.5,-1008 1795.5,-1014 1789.5,-1020 1783.5,-1020\"/>\n<text text-anchor=\"middle\" x=\"1713.5\" y=\"-1004.8\" font-family=\"Helvetica,sans-Serif\" font-size=\"14.00\" fill=\"#000000\">displacement &lt;= 190.5</text>\n<text text-anchor=\"middle\" x=\"1713.5\" y=\"-989.8\" font-family=\"Helvetica,sans-Serif\" font-size=\"14.00\" fill=\"#000000\">gini = 0.5</text>\n<text text-anchor=\"middle\" x=\"1713.5\" y=\"-974.8\" font-family=\"Helvetica,sans-Serif\" font-size=\"14.00\" fill=\"#000000\">samples = 311</text>\n<text text-anchor=\"middle\" x=\"1713.5\" y=\"-959.8\" font-family=\"Helvetica,sans-Serif\" font-size=\"14.00\" fill=\"#000000\">value = [159, 152]</text>\n<text text-anchor=\"middle\" x=\"1713.5\" y=\"-944.8\" font-family=\"Helvetica,sans-Serif\" font-size=\"14.00\" fill=\"#000000\">class = 0</text>\n</g>\n<!-- 1 -->\n<g id=\"node2\" class=\"node\">\n<title>1</title>\n<path fill=\"#64b2eb\" stroke=\"#000000\" d=\"M1585.5,-901C1585.5,-901 1463.5,-901 1463.5,-901 1457.5,-901 1451.5,-895 1451.5,-889 1451.5,-889 1451.5,-830 1451.5,-830 1451.5,-824 1457.5,-818 1463.5,-818 1463.5,-818 1585.5,-818 1585.5,-818 1591.5,-818 1597.5,-824 1597.5,-830 1597.5,-830 1597.5,-889 1597.5,-889 1597.5,-895 1591.5,-901 1585.5,-901\"/>\n<text text-anchor=\"middle\" x=\"1524.5\" y=\"-885.8\" font-family=\"Helvetica,sans-Serif\" font-size=\"14.00\" fill=\"#000000\">horsepower &lt;= 96.5</text>\n<text text-anchor=\"middle\" x=\"1524.5\" y=\"-870.8\" font-family=\"Helvetica,sans-Serif\" font-size=\"14.00\" fill=\"#000000\">gini = 0.292</text>\n<text text-anchor=\"middle\" x=\"1524.5\" y=\"-855.8\" font-family=\"Helvetica,sans-Serif\" font-size=\"14.00\" fill=\"#000000\">samples = 180</text>\n<text text-anchor=\"middle\" x=\"1524.5\" y=\"-840.8\" font-family=\"Helvetica,sans-Serif\" font-size=\"14.00\" fill=\"#000000\">value = [32, 148]</text>\n<text text-anchor=\"middle\" x=\"1524.5\" y=\"-825.8\" font-family=\"Helvetica,sans-Serif\" font-size=\"14.00\" fill=\"#000000\">class = 1</text>\n</g>\n<!-- 0&#45;&gt;1 -->\n<g id=\"edge1\" class=\"edge\">\n<title>0&#45;&gt;1</title>\n<path fill=\"none\" stroke=\"#000000\" d=\"M1647.397,-936.8796C1631.8587,-927.0962 1615.1912,-916.6019 1599.3013,-906.5971\"/>\n<polygon fill=\"#000000\" stroke=\"#000000\" points=\"1600.8929,-903.4633 1590.5657,-901.0969 1597.1632,-909.3869 1600.8929,-903.4633\"/>\n<text text-anchor=\"middle\" x=\"1596.1062\" y=\"-921.7752\" font-family=\"Helvetica,sans-Serif\" font-size=\"14.00\" fill=\"#000000\">True</text>\n</g>\n<!-- 48 -->\n<g id=\"node49\" class=\"node\">\n<title>48</title>\n<path fill=\"#e6853f\" stroke=\"#000000\" d=\"M1820.5,-901C1820.5,-901 1696.5,-901 1696.5,-901 1690.5,-901 1684.5,-895 1684.5,-889 1684.5,-889 1684.5,-830 1684.5,-830 1684.5,-824 1690.5,-818 1696.5,-818 1696.5,-818 1820.5,-818 1820.5,-818 1826.5,-818 1832.5,-824 1832.5,-830 1832.5,-830 1832.5,-889 1832.5,-889 1832.5,-895 1826.5,-901 1820.5,-901\"/>\n<text text-anchor=\"middle\" x=\"1758.5\" y=\"-885.8\" font-family=\"Helvetica,sans-Serif\" font-size=\"14.00\" fill=\"#000000\">acceleration &lt;= 21.6</text>\n<text text-anchor=\"middle\" x=\"1758.5\" y=\"-870.8\" font-family=\"Helvetica,sans-Serif\" font-size=\"14.00\" fill=\"#000000\">gini = 0.059</text>\n<text text-anchor=\"middle\" x=\"1758.5\" y=\"-855.8\" font-family=\"Helvetica,sans-Serif\" font-size=\"14.00\" fill=\"#000000\">samples = 131</text>\n<text text-anchor=\"middle\" x=\"1758.5\" y=\"-840.8\" font-family=\"Helvetica,sans-Serif\" font-size=\"14.00\" fill=\"#000000\">value = [127, 4]</text>\n<text text-anchor=\"middle\" x=\"1758.5\" y=\"-825.8\" font-family=\"Helvetica,sans-Serif\" font-size=\"14.00\" fill=\"#000000\">class = 0</text>\n</g>\n<!-- 0&#45;&gt;48 -->\n<g id=\"edge48\" class=\"edge\">\n<title>0&#45;&gt;48</title>\n<path fill=\"none\" stroke=\"#000000\" d=\"M1729.2388,-936.8796C1732.4402,-928.4136 1735.8429,-919.4153 1739.1528,-910.6626\"/>\n<polygon fill=\"#000000\" stroke=\"#000000\" points=\"1742.4306,-911.8896 1742.694,-901.2981 1735.8831,-909.4136 1742.4306,-911.8896\"/>\n<text text-anchor=\"middle\" x=\"1752.9762\" y=\"-920.3857\" font-family=\"Helvetica,sans-Serif\" font-size=\"14.00\" fill=\"#000000\">False</text>\n</g>\n<!-- 2 -->\n<g id=\"node3\" class=\"node\">\n<title>2</title>\n<path fill=\"#50a9e8\" stroke=\"#000000\" d=\"M892.5,-782C892.5,-782 752.5,-782 752.5,-782 746.5,-782 740.5,-776 740.5,-770 740.5,-770 740.5,-711 740.5,-711 740.5,-705 746.5,-699 752.5,-699 752.5,-699 892.5,-699 892.5,-699 898.5,-699 904.5,-705 904.5,-711 904.5,-711 904.5,-770 904.5,-770 904.5,-776 898.5,-782 892.5,-782\"/>\n<text text-anchor=\"middle\" x=\"822.5\" y=\"-766.8\" font-family=\"Helvetica,sans-Serif\" font-size=\"14.00\" fill=\"#000000\">displacement &lt;= 113.5</text>\n<text text-anchor=\"middle\" x=\"822.5\" y=\"-751.8\" font-family=\"Helvetica,sans-Serif\" font-size=\"14.00\" fill=\"#000000\">gini = 0.188</text>\n<text text-anchor=\"middle\" x=\"822.5\" y=\"-736.8\" font-family=\"Helvetica,sans-Serif\" font-size=\"14.00\" fill=\"#000000\">samples = 152</text>\n<text text-anchor=\"middle\" x=\"822.5\" y=\"-721.8\" font-family=\"Helvetica,sans-Serif\" font-size=\"14.00\" fill=\"#000000\">value = [16, 136]</text>\n<text text-anchor=\"middle\" x=\"822.5\" y=\"-706.8\" font-family=\"Helvetica,sans-Serif\" font-size=\"14.00\" fill=\"#000000\">class = 1</text>\n</g>\n<!-- 1&#45;&gt;2 -->\n<g id=\"edge2\" class=\"edge\">\n<title>1&#45;&gt;2</title>\n<path fill=\"none\" stroke=\"#000000\" d=\"M1451.3603,-847.1017C1322.5861,-825.2724 1055.6929,-780.0298 914.5804,-756.1091\"/>\n<polygon fill=\"#000000\" stroke=\"#000000\" points=\"915.0856,-752.6449 904.6413,-754.4242 913.9157,-759.5464 915.0856,-752.6449\"/>\n</g>\n<!-- 39 -->\n<g id=\"node40\" class=\"node\">\n<title>39</title>\n<path fill=\"#f8e0ce\" stroke=\"#000000\" d=\"M1570.5,-782C1570.5,-782 1478.5,-782 1478.5,-782 1472.5,-782 1466.5,-776 1466.5,-770 1466.5,-770 1466.5,-711 1466.5,-711 1466.5,-705 1472.5,-699 1478.5,-699 1478.5,-699 1570.5,-699 1570.5,-699 1576.5,-699 1582.5,-705 1582.5,-711 1582.5,-711 1582.5,-770 1582.5,-770 1582.5,-776 1576.5,-782 1570.5,-782\"/>\n<text text-anchor=\"middle\" x=\"1524.5\" y=\"-766.8\" font-family=\"Helvetica,sans-Serif\" font-size=\"14.00\" fill=\"#000000\">year &lt;= 78.5</text>\n<text text-anchor=\"middle\" x=\"1524.5\" y=\"-751.8\" font-family=\"Helvetica,sans-Serif\" font-size=\"14.00\" fill=\"#000000\">gini = 0.49</text>\n<text text-anchor=\"middle\" x=\"1524.5\" y=\"-736.8\" font-family=\"Helvetica,sans-Serif\" font-size=\"14.00\" fill=\"#000000\">samples = 28</text>\n<text text-anchor=\"middle\" x=\"1524.5\" y=\"-721.8\" font-family=\"Helvetica,sans-Serif\" font-size=\"14.00\" fill=\"#000000\">value = [16, 12]</text>\n<text text-anchor=\"middle\" x=\"1524.5\" y=\"-706.8\" font-family=\"Helvetica,sans-Serif\" font-size=\"14.00\" fill=\"#000000\">class = 0</text>\n</g>\n<!-- 1&#45;&gt;39 -->\n<g id=\"edge39\" class=\"edge\">\n<title>1&#45;&gt;39</title>\n<path fill=\"none\" stroke=\"#000000\" d=\"M1524.5,-817.8796C1524.5,-809.6838 1524.5,-800.9891 1524.5,-792.5013\"/>\n<polygon fill=\"#000000\" stroke=\"#000000\" points=\"1528.0001,-792.298 1524.5,-782.2981 1521.0001,-792.2981 1528.0001,-792.298\"/>\n</g>\n<!-- 3 -->\n<g id=\"node4\" class=\"node\">\n<title>3</title>\n<path fill=\"#3d9fe6\" stroke=\"#000000\" d=\"M247,-663C247,-663 152,-663 152,-663 146,-663 140,-657 140,-651 140,-651 140,-592 140,-592 140,-586 146,-580 152,-580 152,-580 247,-580 247,-580 253,-580 259,-586 259,-592 259,-592 259,-651 259,-651 259,-657 253,-663 247,-663\"/>\n<text text-anchor=\"middle\" x=\"199.5\" y=\"-647.8\" font-family=\"Helvetica,sans-Serif\" font-size=\"14.00\" fill=\"#000000\">cylinders &lt;= 0.5</text>\n<text text-anchor=\"middle\" x=\"199.5\" y=\"-632.8\" font-family=\"Helvetica,sans-Serif\" font-size=\"14.00\" fill=\"#000000\">gini = 0.041</text>\n<text text-anchor=\"middle\" x=\"199.5\" y=\"-617.8\" font-family=\"Helvetica,sans-Serif\" font-size=\"14.00\" fill=\"#000000\">samples = 96</text>\n<text text-anchor=\"middle\" x=\"199.5\" y=\"-602.8\" font-family=\"Helvetica,sans-Serif\" font-size=\"14.00\" fill=\"#000000\">value = [2, 94]</text>\n<text text-anchor=\"middle\" x=\"199.5\" y=\"-587.8\" font-family=\"Helvetica,sans-Serif\" font-size=\"14.00\" fill=\"#000000\">class = 1</text>\n</g>\n<!-- 2&#45;&gt;3 -->\n<g id=\"edge3\" class=\"edge\">\n<title>2&#45;&gt;3</title>\n<path fill=\"none\" stroke=\"#000000\" d=\"M740.413,-724.8205C616.8066,-701.2102 385.056,-656.9433 269.1826,-634.8102\"/>\n<polygon fill=\"#000000\" stroke=\"#000000\" points=\"269.8309,-631.3708 259.3518,-632.9324 268.5175,-638.2465 269.8309,-631.3708\"/>\n</g>\n<!-- 12 -->\n<g id=\"node13\" class=\"node\">\n<title>12</title>\n<path fill=\"#7bbeee\" stroke=\"#000000\" d=\"M868.5,-663C868.5,-663 776.5,-663 776.5,-663 770.5,-663 764.5,-657 764.5,-651 764.5,-651 764.5,-592 764.5,-592 764.5,-586 770.5,-580 776.5,-580 776.5,-580 868.5,-580 868.5,-580 874.5,-580 880.5,-586 880.5,-592 880.5,-592 880.5,-651 880.5,-651 880.5,-657 874.5,-663 868.5,-663\"/>\n<text text-anchor=\"middle\" x=\"822.5\" y=\"-647.8\" font-family=\"Helvetica,sans-Serif\" font-size=\"14.00\" fill=\"#000000\">year &lt;= 75.5</text>\n<text text-anchor=\"middle\" x=\"822.5\" y=\"-632.8\" font-family=\"Helvetica,sans-Serif\" font-size=\"14.00\" fill=\"#000000\">gini = 0.375</text>\n<text text-anchor=\"middle\" x=\"822.5\" y=\"-617.8\" font-family=\"Helvetica,sans-Serif\" font-size=\"14.00\" fill=\"#000000\">samples = 56</text>\n<text text-anchor=\"middle\" x=\"822.5\" y=\"-602.8\" font-family=\"Helvetica,sans-Serif\" font-size=\"14.00\" fill=\"#000000\">value = [14, 42]</text>\n<text text-anchor=\"middle\" x=\"822.5\" y=\"-587.8\" font-family=\"Helvetica,sans-Serif\" font-size=\"14.00\" fill=\"#000000\">class = 1</text>\n</g>\n<!-- 2&#45;&gt;12 -->\n<g id=\"edge12\" class=\"edge\">\n<title>2&#45;&gt;12</title>\n<path fill=\"none\" stroke=\"#000000\" d=\"M822.5,-698.8796C822.5,-690.6838 822.5,-681.9891 822.5,-673.5013\"/>\n<polygon fill=\"#000000\" stroke=\"#000000\" points=\"826.0001,-673.298 822.5,-663.2981 819.0001,-673.2981 826.0001,-673.298\"/>\n</g>\n<!-- 4 -->\n<g id=\"node5\" class=\"node\">\n<title>4</title>\n<path fill=\"#e58139\" stroke=\"#000000\" d=\"M96,-536.5C96,-536.5 21,-536.5 21,-536.5 15,-536.5 9,-530.5 9,-524.5 9,-524.5 9,-480.5 9,-480.5 9,-474.5 15,-468.5 21,-468.5 21,-468.5 96,-468.5 96,-468.5 102,-468.5 108,-474.5 108,-480.5 108,-480.5 108,-524.5 108,-524.5 108,-530.5 102,-536.5 96,-536.5\"/>\n<text text-anchor=\"middle\" x=\"58.5\" y=\"-521.3\" font-family=\"Helvetica,sans-Serif\" font-size=\"14.00\" fill=\"#000000\">gini = 0.0</text>\n<text text-anchor=\"middle\" x=\"58.5\" y=\"-506.3\" font-family=\"Helvetica,sans-Serif\" font-size=\"14.00\" fill=\"#000000\">samples = 1</text>\n<text text-anchor=\"middle\" x=\"58.5\" y=\"-491.3\" font-family=\"Helvetica,sans-Serif\" font-size=\"14.00\" fill=\"#000000\">value = [1, 0]</text>\n<text text-anchor=\"middle\" x=\"58.5\" y=\"-476.3\" font-family=\"Helvetica,sans-Serif\" font-size=\"14.00\" fill=\"#000000\">class = 0</text>\n</g>\n<!-- 3&#45;&gt;4 -->\n<g id=\"edge4\" class=\"edge\">\n<title>3&#45;&gt;4</title>\n<path fill=\"none\" stroke=\"#000000\" d=\"M150.185,-579.8796C136.244,-568.1138 121.0846,-555.3197 107.1812,-543.5855\"/>\n<polygon fill=\"#000000\" stroke=\"#000000\" points=\"109.0584,-540.5899 99.1589,-536.8149 104.5436,-545.9394 109.0584,-540.5899\"/>\n</g>\n<!-- 5 -->\n<g id=\"node6\" class=\"node\">\n<title>5</title>\n<path fill=\"#3b9ee5\" stroke=\"#000000\" d=\"M260.5,-544C260.5,-544 138.5,-544 138.5,-544 132.5,-544 126.5,-538 126.5,-532 126.5,-532 126.5,-473 126.5,-473 126.5,-467 132.5,-461 138.5,-461 138.5,-461 260.5,-461 260.5,-461 266.5,-461 272.5,-467 272.5,-473 272.5,-473 272.5,-532 272.5,-532 272.5,-538 266.5,-544 260.5,-544\"/>\n<text text-anchor=\"middle\" x=\"199.5\" y=\"-528.8\" font-family=\"Helvetica,sans-Serif\" font-size=\"14.00\" fill=\"#000000\">horsepower &lt;= 87.5</text>\n<text text-anchor=\"middle\" x=\"199.5\" y=\"-513.8\" font-family=\"Helvetica,sans-Serif\" font-size=\"14.00\" fill=\"#000000\">gini = 0.021</text>\n<text text-anchor=\"middle\" x=\"199.5\" y=\"-498.8\" font-family=\"Helvetica,sans-Serif\" font-size=\"14.00\" fill=\"#000000\">samples = 95</text>\n<text text-anchor=\"middle\" x=\"199.5\" y=\"-483.8\" font-family=\"Helvetica,sans-Serif\" font-size=\"14.00\" fill=\"#000000\">value = [1, 94]</text>\n<text text-anchor=\"middle\" x=\"199.5\" y=\"-468.8\" font-family=\"Helvetica,sans-Serif\" font-size=\"14.00\" fill=\"#000000\">class = 1</text>\n</g>\n<!-- 3&#45;&gt;5 -->\n<g id=\"edge5\" class=\"edge\">\n<title>3&#45;&gt;5</title>\n<path fill=\"none\" stroke=\"#000000\" d=\"M199.5,-579.8796C199.5,-571.6838 199.5,-562.9891 199.5,-554.5013\"/>\n<polygon fill=\"#000000\" stroke=\"#000000\" points=\"203.0001,-554.298 199.5,-544.2981 196.0001,-554.2981 203.0001,-554.298\"/>\n</g>\n<!-- 6 -->\n<g id=\"node7\" class=\"node\">\n<title>6</title>\n<path fill=\"#399de5\" stroke=\"#000000\" d=\"M95,-417.5C95,-417.5 12,-417.5 12,-417.5 6,-417.5 0,-411.5 0,-405.5 0,-405.5 0,-361.5 0,-361.5 0,-355.5 6,-349.5 12,-349.5 12,-349.5 95,-349.5 95,-349.5 101,-349.5 107,-355.5 107,-361.5 107,-361.5 107,-405.5 107,-405.5 107,-411.5 101,-417.5 95,-417.5\"/>\n<text text-anchor=\"middle\" x=\"53.5\" y=\"-402.3\" font-family=\"Helvetica,sans-Serif\" font-size=\"14.00\" fill=\"#000000\">gini = 0.0</text>\n<text text-anchor=\"middle\" x=\"53.5\" y=\"-387.3\" font-family=\"Helvetica,sans-Serif\" font-size=\"14.00\" fill=\"#000000\">samples = 82</text>\n<text text-anchor=\"middle\" x=\"53.5\" y=\"-372.3\" font-family=\"Helvetica,sans-Serif\" font-size=\"14.00\" fill=\"#000000\">value = [0, 82]</text>\n<text text-anchor=\"middle\" x=\"53.5\" y=\"-357.3\" font-family=\"Helvetica,sans-Serif\" font-size=\"14.00\" fill=\"#000000\">class = 1</text>\n</g>\n<!-- 5&#45;&gt;6 -->\n<g id=\"edge6\" class=\"edge\">\n<title>5&#45;&gt;6</title>\n<path fill=\"none\" stroke=\"#000000\" d=\"M148.4363,-460.8796C133.866,-449.0038 118.0104,-436.0804 103.5042,-424.2568\"/>\n<polygon fill=\"#000000\" stroke=\"#000000\" points=\"105.5634,-421.4199 95.6007,-417.8149 101.1408,-426.8459 105.5634,-421.4199\"/>\n</g>\n<!-- 7 -->\n<g id=\"node8\" class=\"node\">\n<title>7</title>\n<path fill=\"#49a5e7\" stroke=\"#000000\" d=\"M261.5,-425C261.5,-425 137.5,-425 137.5,-425 131.5,-425 125.5,-419 125.5,-413 125.5,-413 125.5,-354 125.5,-354 125.5,-348 131.5,-342 137.5,-342 137.5,-342 261.5,-342 261.5,-342 267.5,-342 273.5,-348 273.5,-354 273.5,-354 273.5,-413 273.5,-413 273.5,-419 267.5,-425 261.5,-425\"/>\n<text text-anchor=\"middle\" x=\"199.5\" y=\"-409.8\" font-family=\"Helvetica,sans-Serif\" font-size=\"14.00\" fill=\"#000000\">acceleration &lt;= 18.8</text>\n<text text-anchor=\"middle\" x=\"199.5\" y=\"-394.8\" font-family=\"Helvetica,sans-Serif\" font-size=\"14.00\" fill=\"#000000\">gini = 0.142</text>\n<text text-anchor=\"middle\" x=\"199.5\" y=\"-379.8\" font-family=\"Helvetica,sans-Serif\" font-size=\"14.00\" fill=\"#000000\">samples = 13</text>\n<text text-anchor=\"middle\" x=\"199.5\" y=\"-364.8\" font-family=\"Helvetica,sans-Serif\" font-size=\"14.00\" fill=\"#000000\">value = [1, 12]</text>\n<text text-anchor=\"middle\" x=\"199.5\" y=\"-349.8\" font-family=\"Helvetica,sans-Serif\" font-size=\"14.00\" fill=\"#000000\">class = 1</text>\n</g>\n<!-- 5&#45;&gt;7 -->\n<g id=\"edge7\" class=\"edge\">\n<title>5&#45;&gt;7</title>\n<path fill=\"none\" stroke=\"#000000\" d=\"M199.5,-460.8796C199.5,-452.6838 199.5,-443.9891 199.5,-435.5013\"/>\n<polygon fill=\"#000000\" stroke=\"#000000\" points=\"203.0001,-435.298 199.5,-425.2981 196.0001,-435.2981 203.0001,-435.298\"/>\n</g>\n<!-- 8 -->\n<g id=\"node9\" class=\"node\">\n<title>8</title>\n<path fill=\"#399de5\" stroke=\"#000000\" d=\"M120,-298.5C120,-298.5 37,-298.5 37,-298.5 31,-298.5 25,-292.5 25,-286.5 25,-286.5 25,-242.5 25,-242.5 25,-236.5 31,-230.5 37,-230.5 37,-230.5 120,-230.5 120,-230.5 126,-230.5 132,-236.5 132,-242.5 132,-242.5 132,-286.5 132,-286.5 132,-292.5 126,-298.5 120,-298.5\"/>\n<text text-anchor=\"middle\" x=\"78.5\" y=\"-283.3\" font-family=\"Helvetica,sans-Serif\" font-size=\"14.00\" fill=\"#000000\">gini = 0.0</text>\n<text text-anchor=\"middle\" x=\"78.5\" y=\"-268.3\" font-family=\"Helvetica,sans-Serif\" font-size=\"14.00\" fill=\"#000000\">samples = 11</text>\n<text text-anchor=\"middle\" x=\"78.5\" y=\"-253.3\" font-family=\"Helvetica,sans-Serif\" font-size=\"14.00\" fill=\"#000000\">value = [0, 11]</text>\n<text text-anchor=\"middle\" x=\"78.5\" y=\"-238.3\" font-family=\"Helvetica,sans-Serif\" font-size=\"14.00\" fill=\"#000000\">class = 1</text>\n</g>\n<!-- 7&#45;&gt;8 -->\n<g id=\"edge8\" class=\"edge\">\n<title>7&#45;&gt;8</title>\n<path fill=\"none\" stroke=\"#000000\" d=\"M157.1801,-341.8796C145.3283,-330.2237 132.4505,-317.5587 120.6109,-305.9148\"/>\n<polygon fill=\"#000000\" stroke=\"#000000\" points=\"122.9756,-303.3314 113.3917,-298.8149 118.0673,-308.3223 122.9756,-303.3314\"/>\n</g>\n<!-- 9 -->\n<g id=\"node10\" class=\"node\">\n<title>9</title>\n<path fill=\"#ffffff\" stroke=\"#000000\" d=\"M237,-306C237,-306 162,-306 162,-306 156,-306 150,-300 150,-294 150,-294 150,-235 150,-235 150,-229 156,-223 162,-223 162,-223 237,-223 237,-223 243,-223 249,-229 249,-235 249,-235 249,-294 249,-294 249,-300 243,-306 237,-306\"/>\n<text text-anchor=\"middle\" x=\"199.5\" y=\"-290.8\" font-family=\"Helvetica,sans-Serif\" font-size=\"14.00\" fill=\"#000000\">origin &lt;= 2.0</text>\n<text text-anchor=\"middle\" x=\"199.5\" y=\"-275.8\" font-family=\"Helvetica,sans-Serif\" font-size=\"14.00\" fill=\"#000000\">gini = 0.5</text>\n<text text-anchor=\"middle\" x=\"199.5\" y=\"-260.8\" font-family=\"Helvetica,sans-Serif\" font-size=\"14.00\" fill=\"#000000\">samples = 2</text>\n<text text-anchor=\"middle\" x=\"199.5\" y=\"-245.8\" font-family=\"Helvetica,sans-Serif\" font-size=\"14.00\" fill=\"#000000\">value = [1, 1]</text>\n<text text-anchor=\"middle\" x=\"199.5\" y=\"-230.8\" font-family=\"Helvetica,sans-Serif\" font-size=\"14.00\" fill=\"#000000\">class = 0</text>\n</g>\n<!-- 7&#45;&gt;9 -->\n<g id=\"edge9\" class=\"edge\">\n<title>7&#45;&gt;9</title>\n<path fill=\"none\" stroke=\"#000000\" d=\"M199.5,-341.8796C199.5,-333.6838 199.5,-324.9891 199.5,-316.5013\"/>\n<polygon fill=\"#000000\" stroke=\"#000000\" points=\"203.0001,-316.298 199.5,-306.2981 196.0001,-316.2981 203.0001,-316.298\"/>\n</g>\n<!-- 10 -->\n<g id=\"node11\" class=\"node\">\n<title>10</title>\n<path fill=\"#399de5\" stroke=\"#000000\" d=\"M127,-179.5C127,-179.5 52,-179.5 52,-179.5 46,-179.5 40,-173.5 40,-167.5 40,-167.5 40,-123.5 40,-123.5 40,-117.5 46,-111.5 52,-111.5 52,-111.5 127,-111.5 127,-111.5 133,-111.5 139,-117.5 139,-123.5 139,-123.5 139,-167.5 139,-167.5 139,-173.5 133,-179.5 127,-179.5\"/>\n<text text-anchor=\"middle\" x=\"89.5\" y=\"-164.3\" font-family=\"Helvetica,sans-Serif\" font-size=\"14.00\" fill=\"#000000\">gini = 0.0</text>\n<text text-anchor=\"middle\" x=\"89.5\" y=\"-149.3\" font-family=\"Helvetica,sans-Serif\" font-size=\"14.00\" fill=\"#000000\">samples = 1</text>\n<text text-anchor=\"middle\" x=\"89.5\" y=\"-134.3\" font-family=\"Helvetica,sans-Serif\" font-size=\"14.00\" fill=\"#000000\">value = [0, 1]</text>\n<text text-anchor=\"middle\" x=\"89.5\" y=\"-119.3\" font-family=\"Helvetica,sans-Serif\" font-size=\"14.00\" fill=\"#000000\">class = 1</text>\n</g>\n<!-- 9&#45;&gt;10 -->\n<g id=\"edge10\" class=\"edge\">\n<title>9&#45;&gt;10</title>\n<path fill=\"none\" stroke=\"#000000\" d=\"M161.0273,-222.8796C150.3547,-211.3337 138.7667,-198.7976 128.0875,-187.2446\"/>\n<polygon fill=\"#000000\" stroke=\"#000000\" points=\"130.5778,-184.7825 121.2197,-179.8149 125.4375,-189.534 130.5778,-184.7825\"/>\n</g>\n<!-- 11 -->\n<g id=\"node12\" class=\"node\">\n<title>11</title>\n<path fill=\"#e58139\" stroke=\"#000000\" d=\"M244,-179.5C244,-179.5 169,-179.5 169,-179.5 163,-179.5 157,-173.5 157,-167.5 157,-167.5 157,-123.5 157,-123.5 157,-117.5 163,-111.5 169,-111.5 169,-111.5 244,-111.5 244,-111.5 250,-111.5 256,-117.5 256,-123.5 256,-123.5 256,-167.5 256,-167.5 256,-173.5 250,-179.5 244,-179.5\"/>\n<text text-anchor=\"middle\" x=\"206.5\" y=\"-164.3\" font-family=\"Helvetica,sans-Serif\" font-size=\"14.00\" fill=\"#000000\">gini = 0.0</text>\n<text text-anchor=\"middle\" x=\"206.5\" y=\"-149.3\" font-family=\"Helvetica,sans-Serif\" font-size=\"14.00\" fill=\"#000000\">samples = 1</text>\n<text text-anchor=\"middle\" x=\"206.5\" y=\"-134.3\" font-family=\"Helvetica,sans-Serif\" font-size=\"14.00\" fill=\"#000000\">value = [1, 0]</text>\n<text text-anchor=\"middle\" x=\"206.5\" y=\"-119.3\" font-family=\"Helvetica,sans-Serif\" font-size=\"14.00\" fill=\"#000000\">class = 0</text>\n</g>\n<!-- 9&#45;&gt;11 -->\n<g id=\"edge11\" class=\"edge\">\n<title>9&#45;&gt;11</title>\n<path fill=\"none\" stroke=\"#000000\" d=\"M201.9483,-222.8796C202.5757,-212.2134 203.2528,-200.7021 203.8881,-189.9015\"/>\n<polygon fill=\"#000000\" stroke=\"#000000\" points=\"207.3881,-190.0032 204.4815,-179.8149 200.4002,-189.5921 207.3881,-190.0032\"/>\n</g>\n<!-- 13 -->\n<g id=\"node14\" class=\"node\">\n<title>13</title>\n<path fill=\"#f6d1b7\" stroke=\"#000000\" d=\"M774.5,-544C774.5,-544 642.5,-544 642.5,-544 636.5,-544 630.5,-538 630.5,-532 630.5,-532 630.5,-473 630.5,-473 630.5,-467 636.5,-461 642.5,-461 642.5,-461 774.5,-461 774.5,-461 780.5,-461 786.5,-467 786.5,-473 786.5,-473 786.5,-532 786.5,-532 786.5,-538 780.5,-544 774.5,-544\"/>\n<text text-anchor=\"middle\" x=\"708.5\" y=\"-528.8\" font-family=\"Helvetica,sans-Serif\" font-size=\"14.00\" fill=\"#000000\">acceleration &lt;= 16.75</text>\n<text text-anchor=\"middle\" x=\"708.5\" y=\"-513.8\" font-family=\"Helvetica,sans-Serif\" font-size=\"14.00\" fill=\"#000000\">gini = 0.475</text>\n<text text-anchor=\"middle\" x=\"708.5\" y=\"-498.8\" font-family=\"Helvetica,sans-Serif\" font-size=\"14.00\" fill=\"#000000\">samples = 18</text>\n<text text-anchor=\"middle\" x=\"708.5\" y=\"-483.8\" font-family=\"Helvetica,sans-Serif\" font-size=\"14.00\" fill=\"#000000\">value = [11, 7]</text>\n<text text-anchor=\"middle\" x=\"708.5\" y=\"-468.8\" font-family=\"Helvetica,sans-Serif\" font-size=\"14.00\" fill=\"#000000\">class = 0</text>\n</g>\n<!-- 12&#45;&gt;13 -->\n<g id=\"edge13\" class=\"edge\">\n<title>12&#45;&gt;13</title>\n<path fill=\"none\" stroke=\"#000000\" d=\"M782.6283,-579.8796C773.9142,-570.7832 764.6112,-561.0722 755.6438,-551.7116\"/>\n<polygon fill=\"#000000\" stroke=\"#000000\" points=\"757.987,-549.098 748.5419,-544.2981 752.9322,-553.9405 757.987,-549.098\"/>\n</g>\n<!-- 26 -->\n<g id=\"node27\" class=\"node\">\n<title>26</title>\n<path fill=\"#4aa5e7\" stroke=\"#000000\" d=\"M1069.5,-544C1069.5,-544 937.5,-544 937.5,-544 931.5,-544 925.5,-538 925.5,-532 925.5,-532 925.5,-473 925.5,-473 925.5,-467 931.5,-461 937.5,-461 937.5,-461 1069.5,-461 1069.5,-461 1075.5,-461 1081.5,-467 1081.5,-473 1081.5,-473 1081.5,-532 1081.5,-532 1081.5,-538 1075.5,-544 1069.5,-544\"/>\n<text text-anchor=\"middle\" x=\"1003.5\" y=\"-528.8\" font-family=\"Helvetica,sans-Serif\" font-size=\"14.00\" fill=\"#000000\">acceleration &lt;= 21.85</text>\n<text text-anchor=\"middle\" x=\"1003.5\" y=\"-513.8\" font-family=\"Helvetica,sans-Serif\" font-size=\"14.00\" fill=\"#000000\">gini = 0.145</text>\n<text text-anchor=\"middle\" x=\"1003.5\" y=\"-498.8\" font-family=\"Helvetica,sans-Serif\" font-size=\"14.00\" fill=\"#000000\">samples = 38</text>\n<text text-anchor=\"middle\" x=\"1003.5\" y=\"-483.8\" font-family=\"Helvetica,sans-Serif\" font-size=\"14.00\" fill=\"#000000\">value = [3, 35]</text>\n<text text-anchor=\"middle\" x=\"1003.5\" y=\"-468.8\" font-family=\"Helvetica,sans-Serif\" font-size=\"14.00\" fill=\"#000000\">class = 1</text>\n</g>\n<!-- 12&#45;&gt;26 -->\n<g id=\"edge26\" class=\"edge\">\n<title>12&#45;&gt;26</title>\n<path fill=\"none\" stroke=\"#000000\" d=\"M880.7658,-583.1926C896.9585,-572.5466 914.7349,-560.8594 931.6092,-549.7652\"/>\n<polygon fill=\"#000000\" stroke=\"#000000\" points=\"933.9049,-552.4447 940.3379,-544.0264 930.0593,-546.5956 933.9049,-552.4447\"/>\n</g>\n<!-- 14 -->\n<g id=\"node15\" class=\"node\">\n<title>14</title>\n<path fill=\"#9ccef2\" stroke=\"#000000\" d=\"M528.5,-425C528.5,-425 388.5,-425 388.5,-425 382.5,-425 376.5,-419 376.5,-413 376.5,-413 376.5,-354 376.5,-354 376.5,-348 382.5,-342 388.5,-342 388.5,-342 528.5,-342 528.5,-342 534.5,-342 540.5,-348 540.5,-354 540.5,-354 540.5,-413 540.5,-413 540.5,-419 534.5,-425 528.5,-425\"/>\n<text text-anchor=\"middle\" x=\"458.5\" y=\"-409.8\" font-family=\"Helvetica,sans-Serif\" font-size=\"14.00\" fill=\"#000000\">displacement &lt;= 115.5</text>\n<text text-anchor=\"middle\" x=\"458.5\" y=\"-394.8\" font-family=\"Helvetica,sans-Serif\" font-size=\"14.00\" fill=\"#000000\">gini = 0.444</text>\n<text text-anchor=\"middle\" x=\"458.5\" y=\"-379.8\" font-family=\"Helvetica,sans-Serif\" font-size=\"14.00\" fill=\"#000000\">samples = 9</text>\n<text text-anchor=\"middle\" x=\"458.5\" y=\"-364.8\" font-family=\"Helvetica,sans-Serif\" font-size=\"14.00\" fill=\"#000000\">value = [3, 6]</text>\n<text text-anchor=\"middle\" x=\"458.5\" y=\"-349.8\" font-family=\"Helvetica,sans-Serif\" font-size=\"14.00\" fill=\"#000000\">class = 1</text>\n</g>\n<!-- 13&#45;&gt;14 -->\n<g id=\"edge14\" class=\"edge\">\n<title>13&#45;&gt;14</title>\n<path fill=\"none\" stroke=\"#000000\" d=\"M630.4268,-465.3371C604.9235,-453.1976 576.3715,-439.6068 549.9736,-427.0414\"/>\n<polygon fill=\"#000000\" stroke=\"#000000\" points=\"551.2683,-423.7815 540.7347,-422.6437 548.2597,-430.102 551.2683,-423.7815\"/>\n</g>\n<!-- 21 -->\n<g id=\"node22\" class=\"node\">\n<title>21</title>\n<path fill=\"#e89152\" stroke=\"#000000\" d=\"M769.5,-425C769.5,-425 647.5,-425 647.5,-425 641.5,-425 635.5,-419 635.5,-413 635.5,-413 635.5,-354 635.5,-354 635.5,-348 641.5,-342 647.5,-342 647.5,-342 769.5,-342 769.5,-342 775.5,-342 781.5,-348 781.5,-354 781.5,-354 781.5,-413 781.5,-413 781.5,-419 775.5,-425 769.5,-425\"/>\n<text text-anchor=\"middle\" x=\"708.5\" y=\"-409.8\" font-family=\"Helvetica,sans-Serif\" font-size=\"14.00\" fill=\"#000000\">horsepower &lt;= 75.5</text>\n<text text-anchor=\"middle\" x=\"708.5\" y=\"-394.8\" font-family=\"Helvetica,sans-Serif\" font-size=\"14.00\" fill=\"#000000\">gini = 0.198</text>\n<text text-anchor=\"middle\" x=\"708.5\" y=\"-379.8\" font-family=\"Helvetica,sans-Serif\" font-size=\"14.00\" fill=\"#000000\">samples = 9</text>\n<text text-anchor=\"middle\" x=\"708.5\" y=\"-364.8\" font-family=\"Helvetica,sans-Serif\" font-size=\"14.00\" fill=\"#000000\">value = [8, 1]</text>\n<text text-anchor=\"middle\" x=\"708.5\" y=\"-349.8\" font-family=\"Helvetica,sans-Serif\" font-size=\"14.00\" fill=\"#000000\">class = 0</text>\n</g>\n<!-- 13&#45;&gt;21 -->\n<g id=\"edge21\" class=\"edge\">\n<title>13&#45;&gt;21</title>\n<path fill=\"none\" stroke=\"#000000\" d=\"M708.5,-460.8796C708.5,-452.6838 708.5,-443.9891 708.5,-435.5013\"/>\n<polygon fill=\"#000000\" stroke=\"#000000\" points=\"712.0001,-435.298 708.5,-425.2981 705.0001,-435.2981 712.0001,-435.298\"/>\n</g>\n<!-- 15 -->\n<g id=\"node16\" class=\"node\">\n<title>15</title>\n<path fill=\"#e58139\" stroke=\"#000000\" d=\"M354,-298.5C354,-298.5 279,-298.5 279,-298.5 273,-298.5 267,-292.5 267,-286.5 267,-286.5 267,-242.5 267,-242.5 267,-236.5 273,-230.5 279,-230.5 279,-230.5 354,-230.5 354,-230.5 360,-230.5 366,-236.5 366,-242.5 366,-242.5 366,-286.5 366,-286.5 366,-292.5 360,-298.5 354,-298.5\"/>\n<text text-anchor=\"middle\" x=\"316.5\" y=\"-283.3\" font-family=\"Helvetica,sans-Serif\" font-size=\"14.00\" fill=\"#000000\">gini = 0.0</text>\n<text text-anchor=\"middle\" x=\"316.5\" y=\"-268.3\" font-family=\"Helvetica,sans-Serif\" font-size=\"14.00\" fill=\"#000000\">samples = 2</text>\n<text text-anchor=\"middle\" x=\"316.5\" y=\"-253.3\" font-family=\"Helvetica,sans-Serif\" font-size=\"14.00\" fill=\"#000000\">value = [2, 0]</text>\n<text text-anchor=\"middle\" x=\"316.5\" y=\"-238.3\" font-family=\"Helvetica,sans-Serif\" font-size=\"14.00\" fill=\"#000000\">class = 0</text>\n</g>\n<!-- 14&#45;&gt;15 -->\n<g id=\"edge15\" class=\"edge\">\n<title>14&#45;&gt;15</title>\n<path fill=\"none\" stroke=\"#000000\" d=\"M408.8353,-341.8796C394.6642,-330.0038 379.243,-317.0804 365.1342,-305.2568\"/>\n<polygon fill=\"#000000\" stroke=\"#000000\" points=\"367.3598,-302.5554 357.4472,-298.8149 362.8637,-307.9206 367.3598,-302.5554\"/>\n</g>\n<!-- 16 -->\n<g id=\"node17\" class=\"node\">\n<title>16</title>\n<path fill=\"#5aade9\" stroke=\"#000000\" d=\"M520.5,-306C520.5,-306 396.5,-306 396.5,-306 390.5,-306 384.5,-300 384.5,-294 384.5,-294 384.5,-235 384.5,-235 384.5,-229 390.5,-223 396.5,-223 396.5,-223 520.5,-223 520.5,-223 526.5,-223 532.5,-229 532.5,-235 532.5,-235 532.5,-294 532.5,-294 532.5,-300 526.5,-306 520.5,-306\"/>\n<text text-anchor=\"middle\" x=\"458.5\" y=\"-290.8\" font-family=\"Helvetica,sans-Serif\" font-size=\"14.00\" fill=\"#000000\">acceleration &lt;= 16.0</text>\n<text text-anchor=\"middle\" x=\"458.5\" y=\"-275.8\" font-family=\"Helvetica,sans-Serif\" font-size=\"14.00\" fill=\"#000000\">gini = 0.245</text>\n<text text-anchor=\"middle\" x=\"458.5\" y=\"-260.8\" font-family=\"Helvetica,sans-Serif\" font-size=\"14.00\" fill=\"#000000\">samples = 7</text>\n<text text-anchor=\"middle\" x=\"458.5\" y=\"-245.8\" font-family=\"Helvetica,sans-Serif\" font-size=\"14.00\" fill=\"#000000\">value = [1, 6]</text>\n<text text-anchor=\"middle\" x=\"458.5\" y=\"-230.8\" font-family=\"Helvetica,sans-Serif\" font-size=\"14.00\" fill=\"#000000\">class = 1</text>\n</g>\n<!-- 14&#45;&gt;16 -->\n<g id=\"edge16\" class=\"edge\">\n<title>14&#45;&gt;16</title>\n<path fill=\"none\" stroke=\"#000000\" d=\"M458.5,-341.8796C458.5,-333.6838 458.5,-324.9891 458.5,-316.5013\"/>\n<polygon fill=\"#000000\" stroke=\"#000000\" points=\"462.0001,-316.298 458.5,-306.2981 455.0001,-316.2981 462.0001,-316.298\"/>\n</g>\n<!-- 17 -->\n<g id=\"node18\" class=\"node\">\n<title>17</title>\n<path fill=\"#399de5\" stroke=\"#000000\" d=\"M373,-179.5C373,-179.5 298,-179.5 298,-179.5 292,-179.5 286,-173.5 286,-167.5 286,-167.5 286,-123.5 286,-123.5 286,-117.5 292,-111.5 298,-111.5 298,-111.5 373,-111.5 373,-111.5 379,-111.5 385,-117.5 385,-123.5 385,-123.5 385,-167.5 385,-167.5 385,-173.5 379,-179.5 373,-179.5\"/>\n<text text-anchor=\"middle\" x=\"335.5\" y=\"-164.3\" font-family=\"Helvetica,sans-Serif\" font-size=\"14.00\" fill=\"#000000\">gini = 0.0</text>\n<text text-anchor=\"middle\" x=\"335.5\" y=\"-149.3\" font-family=\"Helvetica,sans-Serif\" font-size=\"14.00\" fill=\"#000000\">samples = 5</text>\n<text text-anchor=\"middle\" x=\"335.5\" y=\"-134.3\" font-family=\"Helvetica,sans-Serif\" font-size=\"14.00\" fill=\"#000000\">value = [0, 5]</text>\n<text text-anchor=\"middle\" x=\"335.5\" y=\"-119.3\" font-family=\"Helvetica,sans-Serif\" font-size=\"14.00\" fill=\"#000000\">class = 1</text>\n</g>\n<!-- 16&#45;&gt;17 -->\n<g id=\"edge17\" class=\"edge\">\n<title>16&#45;&gt;17</title>\n<path fill=\"none\" stroke=\"#000000\" d=\"M415.4806,-222.8796C403.4329,-211.2237 390.3422,-198.5587 378.3069,-186.9148\"/>\n<polygon fill=\"#000000\" stroke=\"#000000\" points=\"380.589,-184.2528 370.9684,-179.8149 375.7217,-189.2837 380.589,-184.2528\"/>\n</g>\n<!-- 18 -->\n<g id=\"node19\" class=\"node\">\n<title>18</title>\n<path fill=\"#ffffff\" stroke=\"#000000\" d=\"M490,-187C490,-187 415,-187 415,-187 409,-187 403,-181 403,-175 403,-175 403,-116 403,-116 403,-110 409,-104 415,-104 415,-104 490,-104 490,-104 496,-104 502,-110 502,-116 502,-116 502,-175 502,-175 502,-181 496,-187 490,-187\"/>\n<text text-anchor=\"middle\" x=\"452.5\" y=\"-171.8\" font-family=\"Helvetica,sans-Serif\" font-size=\"14.00\" fill=\"#000000\">year &lt;= 73.0</text>\n<text text-anchor=\"middle\" x=\"452.5\" y=\"-156.8\" font-family=\"Helvetica,sans-Serif\" font-size=\"14.00\" fill=\"#000000\">gini = 0.5</text>\n<text text-anchor=\"middle\" x=\"452.5\" y=\"-141.8\" font-family=\"Helvetica,sans-Serif\" font-size=\"14.00\" fill=\"#000000\">samples = 2</text>\n<text text-anchor=\"middle\" x=\"452.5\" y=\"-126.8\" font-family=\"Helvetica,sans-Serif\" font-size=\"14.00\" fill=\"#000000\">value = [1, 1]</text>\n<text text-anchor=\"middle\" x=\"452.5\" y=\"-111.8\" font-family=\"Helvetica,sans-Serif\" font-size=\"14.00\" fill=\"#000000\">class = 0</text>\n</g>\n<!-- 16&#45;&gt;18 -->\n<g id=\"edge18\" class=\"edge\">\n<title>16&#45;&gt;18</title>\n<path fill=\"none\" stroke=\"#000000\" d=\"M456.4015,-222.8796C455.9883,-214.6838 455.5499,-205.9891 455.1219,-197.5013\"/>\n<polygon fill=\"#000000\" stroke=\"#000000\" points=\"458.6067,-197.1091 454.6075,-187.2981 451.6156,-197.4617 458.6067,-197.1091\"/>\n</g>\n<!-- 19 -->\n<g id=\"node20\" class=\"node\">\n<title>19</title>\n<path fill=\"#e58139\" stroke=\"#000000\" d=\"M432,-68C432,-68 357,-68 357,-68 351,-68 345,-62 345,-56 345,-56 345,-12 345,-12 345,-6 351,0 357,0 357,0 432,0 432,0 438,0 444,-6 444,-12 444,-12 444,-56 444,-56 444,-62 438,-68 432,-68\"/>\n<text text-anchor=\"middle\" x=\"394.5\" y=\"-52.8\" font-family=\"Helvetica,sans-Serif\" font-size=\"14.00\" fill=\"#000000\">gini = 0.0</text>\n<text text-anchor=\"middle\" x=\"394.5\" y=\"-37.8\" font-family=\"Helvetica,sans-Serif\" font-size=\"14.00\" fill=\"#000000\">samples = 1</text>\n<text text-anchor=\"middle\" x=\"394.5\" y=\"-22.8\" font-family=\"Helvetica,sans-Serif\" font-size=\"14.00\" fill=\"#000000\">value = [1, 0]</text>\n<text text-anchor=\"middle\" x=\"394.5\" y=\"-7.8\" font-family=\"Helvetica,sans-Serif\" font-size=\"14.00\" fill=\"#000000\">class = 0</text>\n</g>\n<!-- 18&#45;&gt;19 -->\n<g id=\"edge19\" class=\"edge\">\n<title>18&#45;&gt;19</title>\n<path fill=\"none\" stroke=\"#000000\" d=\"M430.9029,-103.9815C426.3612,-95.2504 421.5598,-86.0202 416.9863,-77.2281\"/>\n<polygon fill=\"#000000\" stroke=\"#000000\" points=\"420.0431,-75.52 412.3233,-68.2637 413.8331,-78.7504 420.0431,-75.52\"/>\n</g>\n<!-- 20 -->\n<g id=\"node21\" class=\"node\">\n<title>20</title>\n<path fill=\"#399de5\" stroke=\"#000000\" d=\"M549,-68C549,-68 474,-68 474,-68 468,-68 462,-62 462,-56 462,-56 462,-12 462,-12 462,-6 468,0 474,0 474,0 549,0 549,0 555,0 561,-6 561,-12 561,-12 561,-56 561,-56 561,-62 555,-68 549,-68\"/>\n<text text-anchor=\"middle\" x=\"511.5\" y=\"-52.8\" font-family=\"Helvetica,sans-Serif\" font-size=\"14.00\" fill=\"#000000\">gini = 0.0</text>\n<text text-anchor=\"middle\" x=\"511.5\" y=\"-37.8\" font-family=\"Helvetica,sans-Serif\" font-size=\"14.00\" fill=\"#000000\">samples = 1</text>\n<text text-anchor=\"middle\" x=\"511.5\" y=\"-22.8\" font-family=\"Helvetica,sans-Serif\" font-size=\"14.00\" fill=\"#000000\">value = [0, 1]</text>\n<text text-anchor=\"middle\" x=\"511.5\" y=\"-7.8\" font-family=\"Helvetica,sans-Serif\" font-size=\"14.00\" fill=\"#000000\">class = 1</text>\n</g>\n<!-- 18&#45;&gt;20 -->\n<g id=\"edge20\" class=\"edge\">\n<title>18&#45;&gt;20</title>\n<path fill=\"none\" stroke=\"#000000\" d=\"M474.4694,-103.9815C479.0895,-95.2504 483.9736,-86.0202 488.626,-77.2281\"/>\n<polygon fill=\"#000000\" stroke=\"#000000\" points=\"491.7859,-78.7395 493.3694,-68.2637 485.5987,-75.4655 491.7859,-78.7395\"/>\n</g>\n<!-- 22 -->\n<g id=\"node23\" class=\"node\">\n<title>22</title>\n<path fill=\"#f2c09c\" stroke=\"#000000\" d=\"M694.5,-306C694.5,-306 590.5,-306 590.5,-306 584.5,-306 578.5,-300 578.5,-294 578.5,-294 578.5,-235 578.5,-235 578.5,-229 584.5,-223 590.5,-223 590.5,-223 694.5,-223 694.5,-223 700.5,-223 706.5,-229 706.5,-235 706.5,-235 706.5,-294 706.5,-294 706.5,-300 700.5,-306 694.5,-306\"/>\n<text text-anchor=\"middle\" x=\"642.5\" y=\"-290.8\" font-family=\"Helvetica,sans-Serif\" font-size=\"14.00\" fill=\"#000000\">weight &lt;= 2475.0</text>\n<text text-anchor=\"middle\" x=\"642.5\" y=\"-275.8\" font-family=\"Helvetica,sans-Serif\" font-size=\"14.00\" fill=\"#000000\">gini = 0.444</text>\n<text text-anchor=\"middle\" x=\"642.5\" y=\"-260.8\" font-family=\"Helvetica,sans-Serif\" font-size=\"14.00\" fill=\"#000000\">samples = 3</text>\n<text text-anchor=\"middle\" x=\"642.5\" y=\"-245.8\" font-family=\"Helvetica,sans-Serif\" font-size=\"14.00\" fill=\"#000000\">value = [2, 1]</text>\n<text text-anchor=\"middle\" x=\"642.5\" y=\"-230.8\" font-family=\"Helvetica,sans-Serif\" font-size=\"14.00\" fill=\"#000000\">class = 0</text>\n</g>\n<!-- 21&#45;&gt;22 -->\n<g id=\"edge22\" class=\"edge\">\n<title>21&#45;&gt;22</title>\n<path fill=\"none\" stroke=\"#000000\" d=\"M685.4164,-341.8796C680.6211,-333.2335 675.5178,-324.0322 670.5662,-315.1042\"/>\n<polygon fill=\"#000000\" stroke=\"#000000\" points=\"673.5931,-313.3455 665.6821,-306.2981 667.4716,-316.7407 673.5931,-313.3455\"/>\n</g>\n<!-- 25 -->\n<g id=\"node26\" class=\"node\">\n<title>25</title>\n<path fill=\"#e58139\" stroke=\"#000000\" d=\"M812,-298.5C812,-298.5 737,-298.5 737,-298.5 731,-298.5 725,-292.5 725,-286.5 725,-286.5 725,-242.5 725,-242.5 725,-236.5 731,-230.5 737,-230.5 737,-230.5 812,-230.5 812,-230.5 818,-230.5 824,-236.5 824,-242.5 824,-242.5 824,-286.5 824,-286.5 824,-292.5 818,-298.5 812,-298.5\"/>\n<text text-anchor=\"middle\" x=\"774.5\" y=\"-283.3\" font-family=\"Helvetica,sans-Serif\" font-size=\"14.00\" fill=\"#000000\">gini = 0.0</text>\n<text text-anchor=\"middle\" x=\"774.5\" y=\"-268.3\" font-family=\"Helvetica,sans-Serif\" font-size=\"14.00\" fill=\"#000000\">samples = 6</text>\n<text text-anchor=\"middle\" x=\"774.5\" y=\"-253.3\" font-family=\"Helvetica,sans-Serif\" font-size=\"14.00\" fill=\"#000000\">value = [6, 0]</text>\n<text text-anchor=\"middle\" x=\"774.5\" y=\"-238.3\" font-family=\"Helvetica,sans-Serif\" font-size=\"14.00\" fill=\"#000000\">class = 0</text>\n</g>\n<!-- 21&#45;&gt;25 -->\n<g id=\"edge25\" class=\"edge\">\n<title>21&#45;&gt;25</title>\n<path fill=\"none\" stroke=\"#000000\" d=\"M731.5836,-341.8796C737.7433,-330.7735 744.4111,-318.7513 750.6129,-307.5691\"/>\n<polygon fill=\"#000000\" stroke=\"#000000\" points=\"753.6787,-309.2576 755.4682,-298.8149 747.5572,-305.8624 753.6787,-309.2576\"/>\n</g>\n<!-- 23 -->\n<g id=\"node24\" class=\"node\">\n<title>23</title>\n<path fill=\"#e58139\" stroke=\"#000000\" d=\"M607,-179.5C607,-179.5 532,-179.5 532,-179.5 526,-179.5 520,-173.5 520,-167.5 520,-167.5 520,-123.5 520,-123.5 520,-117.5 526,-111.5 532,-111.5 532,-111.5 607,-111.5 607,-111.5 613,-111.5 619,-117.5 619,-123.5 619,-123.5 619,-167.5 619,-167.5 619,-173.5 613,-179.5 607,-179.5\"/>\n<text text-anchor=\"middle\" x=\"569.5\" y=\"-164.3\" font-family=\"Helvetica,sans-Serif\" font-size=\"14.00\" fill=\"#000000\">gini = 0.0</text>\n<text text-anchor=\"middle\" x=\"569.5\" y=\"-149.3\" font-family=\"Helvetica,sans-Serif\" font-size=\"14.00\" fill=\"#000000\">samples = 2</text>\n<text text-anchor=\"middle\" x=\"569.5\" y=\"-134.3\" font-family=\"Helvetica,sans-Serif\" font-size=\"14.00\" fill=\"#000000\">value = [2, 0]</text>\n<text text-anchor=\"middle\" x=\"569.5\" y=\"-119.3\" font-family=\"Helvetica,sans-Serif\" font-size=\"14.00\" fill=\"#000000\">class = 0</text>\n</g>\n<!-- 22&#45;&gt;23 -->\n<g id=\"edge23\" class=\"edge\">\n<title>22&#45;&gt;23</title>\n<path fill=\"none\" stroke=\"#000000\" d=\"M616.9681,-222.8796C610.1552,-211.7735 602.7802,-199.7513 595.9206,-188.5691\"/>\n<polygon fill=\"#000000\" stroke=\"#000000\" points=\"598.7628,-186.5087 590.5503,-179.8149 592.796,-190.1691 598.7628,-186.5087\"/>\n</g>\n<!-- 24 -->\n<g id=\"node25\" class=\"node\">\n<title>24</title>\n<path fill=\"#399de5\" stroke=\"#000000\" d=\"M724,-179.5C724,-179.5 649,-179.5 649,-179.5 643,-179.5 637,-173.5 637,-167.5 637,-167.5 637,-123.5 637,-123.5 637,-117.5 643,-111.5 649,-111.5 649,-111.5 724,-111.5 724,-111.5 730,-111.5 736,-117.5 736,-123.5 736,-123.5 736,-167.5 736,-167.5 736,-173.5 730,-179.5 724,-179.5\"/>\n<text text-anchor=\"middle\" x=\"686.5\" y=\"-164.3\" font-family=\"Helvetica,sans-Serif\" font-size=\"14.00\" fill=\"#000000\">gini = 0.0</text>\n<text text-anchor=\"middle\" x=\"686.5\" y=\"-149.3\" font-family=\"Helvetica,sans-Serif\" font-size=\"14.00\" fill=\"#000000\">samples = 1</text>\n<text text-anchor=\"middle\" x=\"686.5\" y=\"-134.3\" font-family=\"Helvetica,sans-Serif\" font-size=\"14.00\" fill=\"#000000\">value = [0, 1]</text>\n<text text-anchor=\"middle\" x=\"686.5\" y=\"-119.3\" font-family=\"Helvetica,sans-Serif\" font-size=\"14.00\" fill=\"#000000\">class = 1</text>\n</g>\n<!-- 22&#45;&gt;24 -->\n<g id=\"edge24\" class=\"edge\">\n<title>22&#45;&gt;24</title>\n<path fill=\"none\" stroke=\"#000000\" d=\"M657.8891,-222.8796C661.9142,-211.9935 666.2648,-200.227 670.3293,-189.2344\"/>\n<polygon fill=\"#000000\" stroke=\"#000000\" points=\"673.6268,-190.4082 673.8121,-179.8149 667.0613,-187.9805 673.6268,-190.4082\"/>\n</g>\n<!-- 27 -->\n<g id=\"node28\" class=\"node\">\n<title>27</title>\n<path fill=\"#45a3e7\" stroke=\"#000000\" d=\"M1064.5,-425C1064.5,-425 942.5,-425 942.5,-425 936.5,-425 930.5,-419 930.5,-413 930.5,-413 930.5,-354 930.5,-354 930.5,-348 936.5,-342 942.5,-342 942.5,-342 1064.5,-342 1064.5,-342 1070.5,-342 1076.5,-348 1076.5,-354 1076.5,-354 1076.5,-413 1076.5,-413 1076.5,-419 1070.5,-425 1064.5,-425\"/>\n<text text-anchor=\"middle\" x=\"1003.5\" y=\"-409.8\" font-family=\"Helvetica,sans-Serif\" font-size=\"14.00\" fill=\"#000000\">horsepower &lt;= 93.5</text>\n<text text-anchor=\"middle\" x=\"1003.5\" y=\"-394.8\" font-family=\"Helvetica,sans-Serif\" font-size=\"14.00\" fill=\"#000000\">gini = 0.105</text>\n<text text-anchor=\"middle\" x=\"1003.5\" y=\"-379.8\" font-family=\"Helvetica,sans-Serif\" font-size=\"14.00\" fill=\"#000000\">samples = 36</text>\n<text text-anchor=\"middle\" x=\"1003.5\" y=\"-364.8\" font-family=\"Helvetica,sans-Serif\" font-size=\"14.00\" fill=\"#000000\">value = [2, 34]</text>\n<text text-anchor=\"middle\" x=\"1003.5\" y=\"-349.8\" font-family=\"Helvetica,sans-Serif\" font-size=\"14.00\" fill=\"#000000\">class = 1</text>\n</g>\n<!-- 26&#45;&gt;27 -->\n<g id=\"edge27\" class=\"edge\">\n<title>26&#45;&gt;27</title>\n<path fill=\"none\" stroke=\"#000000\" d=\"M1003.5,-460.8796C1003.5,-452.6838 1003.5,-443.9891 1003.5,-435.5013\"/>\n<polygon fill=\"#000000\" stroke=\"#000000\" points=\"1007.0001,-435.298 1003.5,-425.2981 1000.0001,-435.2981 1007.0001,-435.298\"/>\n</g>\n<!-- 36 -->\n<g id=\"node37\" class=\"node\">\n<title>36</title>\n<path fill=\"#ffffff\" stroke=\"#000000\" d=\"M1236,-425C1236,-425 1161,-425 1161,-425 1155,-425 1149,-419 1149,-413 1149,-413 1149,-354 1149,-354 1149,-348 1155,-342 1161,-342 1161,-342 1236,-342 1236,-342 1242,-342 1248,-348 1248,-354 1248,-354 1248,-413 1248,-413 1248,-419 1242,-425 1236,-425\"/>\n<text text-anchor=\"middle\" x=\"1198.5\" y=\"-409.8\" font-family=\"Helvetica,sans-Serif\" font-size=\"14.00\" fill=\"#000000\">year &lt;= 77.5</text>\n<text text-anchor=\"middle\" x=\"1198.5\" y=\"-394.8\" font-family=\"Helvetica,sans-Serif\" font-size=\"14.00\" fill=\"#000000\">gini = 0.5</text>\n<text text-anchor=\"middle\" x=\"1198.5\" y=\"-379.8\" font-family=\"Helvetica,sans-Serif\" font-size=\"14.00\" fill=\"#000000\">samples = 2</text>\n<text text-anchor=\"middle\" x=\"1198.5\" y=\"-364.8\" font-family=\"Helvetica,sans-Serif\" font-size=\"14.00\" fill=\"#000000\">value = [1, 1]</text>\n<text text-anchor=\"middle\" x=\"1198.5\" y=\"-349.8\" font-family=\"Helvetica,sans-Serif\" font-size=\"14.00\" fill=\"#000000\">class = 0</text>\n</g>\n<!-- 26&#45;&gt;36 -->\n<g id=\"edge36\" class=\"edge\">\n<title>26&#45;&gt;36</title>\n<path fill=\"none\" stroke=\"#000000\" d=\"M1071.7015,-460.8796C1093.9998,-447.2719 1118.5519,-432.2888 1140.0642,-419.1608\"/>\n<polygon fill=\"#000000\" stroke=\"#000000\" points=\"1142.0561,-422.0455 1148.769,-413.8487 1138.4097,-416.0703 1142.0561,-422.0455\"/>\n</g>\n<!-- 28 -->\n<g id=\"node29\" class=\"node\">\n<title>28</title>\n<path fill=\"#3fa0e6\" stroke=\"#000000\" d=\"M972.5,-306C972.5,-306 868.5,-306 868.5,-306 862.5,-306 856.5,-300 856.5,-294 856.5,-294 856.5,-235 856.5,-235 856.5,-229 862.5,-223 868.5,-223 868.5,-223 972.5,-223 972.5,-223 978.5,-223 984.5,-229 984.5,-235 984.5,-235 984.5,-294 984.5,-294 984.5,-300 978.5,-306 972.5,-306\"/>\n<text text-anchor=\"middle\" x=\"920.5\" y=\"-290.8\" font-family=\"Helvetica,sans-Serif\" font-size=\"14.00\" fill=\"#000000\">weight &lt;= 2880.0</text>\n<text text-anchor=\"middle\" x=\"920.5\" y=\"-275.8\" font-family=\"Helvetica,sans-Serif\" font-size=\"14.00\" fill=\"#000000\">gini = 0.059</text>\n<text text-anchor=\"middle\" x=\"920.5\" y=\"-260.8\" font-family=\"Helvetica,sans-Serif\" font-size=\"14.00\" fill=\"#000000\">samples = 33</text>\n<text text-anchor=\"middle\" x=\"920.5\" y=\"-245.8\" font-family=\"Helvetica,sans-Serif\" font-size=\"14.00\" fill=\"#000000\">value = [1, 32]</text>\n<text text-anchor=\"middle\" x=\"920.5\" y=\"-230.8\" font-family=\"Helvetica,sans-Serif\" font-size=\"14.00\" fill=\"#000000\">class = 1</text>\n</g>\n<!-- 27&#45;&gt;28 -->\n<g id=\"edge28\" class=\"edge\">\n<title>27&#45;&gt;28</title>\n<path fill=\"none\" stroke=\"#000000\" d=\"M974.4706,-341.8796C968.3145,-333.0534 961.7549,-323.6485 955.4064,-314.5466\"/>\n<polygon fill=\"#000000\" stroke=\"#000000\" points=\"958.2448,-312.4978 949.6533,-306.2981 952.5033,-316.5024 958.2448,-312.4978\"/>\n</g>\n<!-- 33 -->\n<g id=\"node34\" class=\"node\">\n<title>33</title>\n<path fill=\"#9ccef2\" stroke=\"#000000\" d=\"M1118.5,-306C1118.5,-306 1014.5,-306 1014.5,-306 1008.5,-306 1002.5,-300 1002.5,-294 1002.5,-294 1002.5,-235 1002.5,-235 1002.5,-229 1008.5,-223 1014.5,-223 1014.5,-223 1118.5,-223 1118.5,-223 1124.5,-223 1130.5,-229 1130.5,-235 1130.5,-235 1130.5,-294 1130.5,-294 1130.5,-300 1124.5,-306 1118.5,-306\"/>\n<text text-anchor=\"middle\" x=\"1066.5\" y=\"-290.8\" font-family=\"Helvetica,sans-Serif\" font-size=\"14.00\" fill=\"#000000\">weight &lt;= 2537.5</text>\n<text text-anchor=\"middle\" x=\"1066.5\" y=\"-275.8\" font-family=\"Helvetica,sans-Serif\" font-size=\"14.00\" fill=\"#000000\">gini = 0.444</text>\n<text text-anchor=\"middle\" x=\"1066.5\" y=\"-260.8\" font-family=\"Helvetica,sans-Serif\" font-size=\"14.00\" fill=\"#000000\">samples = 3</text>\n<text text-anchor=\"middle\" x=\"1066.5\" y=\"-245.8\" font-family=\"Helvetica,sans-Serif\" font-size=\"14.00\" fill=\"#000000\">value = [1, 2]</text>\n<text text-anchor=\"middle\" x=\"1066.5\" y=\"-230.8\" font-family=\"Helvetica,sans-Serif\" font-size=\"14.00\" fill=\"#000000\">class = 1</text>\n</g>\n<!-- 27&#45;&gt;33 -->\n<g id=\"edge33\" class=\"edge\">\n<title>27&#45;&gt;33</title>\n<path fill=\"none\" stroke=\"#000000\" d=\"M1025.5343,-341.8796C1030.064,-333.3236 1034.8815,-324.2238 1039.5618,-315.3833\"/>\n<polygon fill=\"#000000\" stroke=\"#000000\" points=\"1042.7859,-316.7736 1044.3716,-306.2981 1036.5994,-313.4983 1042.7859,-316.7736\"/>\n</g>\n<!-- 29 -->\n<g id=\"node30\" class=\"node\">\n<title>29</title>\n<path fill=\"#399de5\" stroke=\"#000000\" d=\"M849,-179.5C849,-179.5 766,-179.5 766,-179.5 760,-179.5 754,-173.5 754,-167.5 754,-167.5 754,-123.5 754,-123.5 754,-117.5 760,-111.5 766,-111.5 766,-111.5 849,-111.5 849,-111.5 855,-111.5 861,-117.5 861,-123.5 861,-123.5 861,-167.5 861,-167.5 861,-173.5 855,-179.5 849,-179.5\"/>\n<text text-anchor=\"middle\" x=\"807.5\" y=\"-164.3\" font-family=\"Helvetica,sans-Serif\" font-size=\"14.00\" fill=\"#000000\">gini = 0.0</text>\n<text text-anchor=\"middle\" x=\"807.5\" y=\"-149.3\" font-family=\"Helvetica,sans-Serif\" font-size=\"14.00\" fill=\"#000000\">samples = 26</text>\n<text text-anchor=\"middle\" x=\"807.5\" y=\"-134.3\" font-family=\"Helvetica,sans-Serif\" font-size=\"14.00\" fill=\"#000000\">value = [0, 26]</text>\n<text text-anchor=\"middle\" x=\"807.5\" y=\"-119.3\" font-family=\"Helvetica,sans-Serif\" font-size=\"14.00\" fill=\"#000000\">class = 1</text>\n</g>\n<!-- 28&#45;&gt;29 -->\n<g id=\"edge29\" class=\"edge\">\n<title>28&#45;&gt;29</title>\n<path fill=\"none\" stroke=\"#000000\" d=\"M880.9781,-222.8796C870.0143,-211.3337 858.1103,-198.7976 847.1399,-187.2446\"/>\n<polygon fill=\"#000000\" stroke=\"#000000\" points=\"849.5087,-184.6564 840.0848,-179.8149 844.4327,-189.4766 849.5087,-184.6564\"/>\n</g>\n<!-- 30 -->\n<g id=\"node31\" class=\"node\">\n<title>30</title>\n<path fill=\"#5aade9\" stroke=\"#000000\" d=\"M995.5,-187C995.5,-187 891.5,-187 891.5,-187 885.5,-187 879.5,-181 879.5,-175 879.5,-175 879.5,-116 879.5,-116 879.5,-110 885.5,-104 891.5,-104 891.5,-104 995.5,-104 995.5,-104 1001.5,-104 1007.5,-110 1007.5,-116 1007.5,-116 1007.5,-175 1007.5,-175 1007.5,-181 1001.5,-187 995.5,-187\"/>\n<text text-anchor=\"middle\" x=\"943.5\" y=\"-171.8\" font-family=\"Helvetica,sans-Serif\" font-size=\"14.00\" fill=\"#000000\">weight &lt;= 2920.0</text>\n<text text-anchor=\"middle\" x=\"943.5\" y=\"-156.8\" font-family=\"Helvetica,sans-Serif\" font-size=\"14.00\" fill=\"#000000\">gini = 0.245</text>\n<text text-anchor=\"middle\" x=\"943.5\" y=\"-141.8\" font-family=\"Helvetica,sans-Serif\" font-size=\"14.00\" fill=\"#000000\">samples = 7</text>\n<text text-anchor=\"middle\" x=\"943.5\" y=\"-126.8\" font-family=\"Helvetica,sans-Serif\" font-size=\"14.00\" fill=\"#000000\">value = [1, 6]</text>\n<text text-anchor=\"middle\" x=\"943.5\" y=\"-111.8\" font-family=\"Helvetica,sans-Serif\" font-size=\"14.00\" fill=\"#000000\">class = 1</text>\n</g>\n<!-- 28&#45;&gt;30 -->\n<g id=\"edge30\" class=\"edge\">\n<title>28&#45;&gt;30</title>\n<path fill=\"none\" stroke=\"#000000\" d=\"M928.5443,-222.8796C930.1457,-214.5938 931.8458,-205.798 933.5034,-197.2216\"/>\n<polygon fill=\"#000000\" stroke=\"#000000\" points=\"936.9601,-197.7806 935.4214,-187.2981 930.0872,-196.4522 936.9601,-197.7806\"/>\n</g>\n<!-- 31 -->\n<g id=\"node32\" class=\"node\">\n<title>31</title>\n<path fill=\"#e58139\" stroke=\"#000000\" d=\"M922,-68C922,-68 847,-68 847,-68 841,-68 835,-62 835,-56 835,-56 835,-12 835,-12 835,-6 841,0 847,0 847,0 922,0 922,0 928,0 934,-6 934,-12 934,-12 934,-56 934,-56 934,-62 928,-68 922,-68\"/>\n<text text-anchor=\"middle\" x=\"884.5\" y=\"-52.8\" font-family=\"Helvetica,sans-Serif\" font-size=\"14.00\" fill=\"#000000\">gini = 0.0</text>\n<text text-anchor=\"middle\" x=\"884.5\" y=\"-37.8\" font-family=\"Helvetica,sans-Serif\" font-size=\"14.00\" fill=\"#000000\">samples = 1</text>\n<text text-anchor=\"middle\" x=\"884.5\" y=\"-22.8\" font-family=\"Helvetica,sans-Serif\" font-size=\"14.00\" fill=\"#000000\">value = [1, 0]</text>\n<text text-anchor=\"middle\" x=\"884.5\" y=\"-7.8\" font-family=\"Helvetica,sans-Serif\" font-size=\"14.00\" fill=\"#000000\">class = 0</text>\n</g>\n<!-- 30&#45;&gt;31 -->\n<g id=\"edge31\" class=\"edge\">\n<title>30&#45;&gt;31</title>\n<path fill=\"none\" stroke=\"#000000\" d=\"M921.5306,-103.9815C916.9105,-95.2504 912.0264,-86.0202 907.374,-77.2281\"/>\n<polygon fill=\"#000000\" stroke=\"#000000\" points=\"910.4013,-75.4655 902.6306,-68.2637 904.2141,-78.7395 910.4013,-75.4655\"/>\n</g>\n<!-- 32 -->\n<g id=\"node33\" class=\"node\">\n<title>32</title>\n<path fill=\"#399de5\" stroke=\"#000000\" d=\"M1039,-68C1039,-68 964,-68 964,-68 958,-68 952,-62 952,-56 952,-56 952,-12 952,-12 952,-6 958,0 964,0 964,0 1039,0 1039,0 1045,0 1051,-6 1051,-12 1051,-12 1051,-56 1051,-56 1051,-62 1045,-68 1039,-68\"/>\n<text text-anchor=\"middle\" x=\"1001.5\" y=\"-52.8\" font-family=\"Helvetica,sans-Serif\" font-size=\"14.00\" fill=\"#000000\">gini = 0.0</text>\n<text text-anchor=\"middle\" x=\"1001.5\" y=\"-37.8\" font-family=\"Helvetica,sans-Serif\" font-size=\"14.00\" fill=\"#000000\">samples = 6</text>\n<text text-anchor=\"middle\" x=\"1001.5\" y=\"-22.8\" font-family=\"Helvetica,sans-Serif\" font-size=\"14.00\" fill=\"#000000\">value = [0, 6]</text>\n<text text-anchor=\"middle\" x=\"1001.5\" y=\"-7.8\" font-family=\"Helvetica,sans-Serif\" font-size=\"14.00\" fill=\"#000000\">class = 1</text>\n</g>\n<!-- 30&#45;&gt;32 -->\n<g id=\"edge32\" class=\"edge\">\n<title>30&#45;&gt;32</title>\n<path fill=\"none\" stroke=\"#000000\" d=\"M965.0971,-103.9815C969.6388,-95.2504 974.4402,-86.0202 979.0137,-77.2281\"/>\n<polygon fill=\"#000000\" stroke=\"#000000\" points=\"982.1669,-78.7504 983.6767,-68.2637 975.9569,-75.52 982.1669,-78.7504\"/>\n</g>\n<!-- 34 -->\n<g id=\"node35\" class=\"node\">\n<title>34</title>\n<path fill=\"#e58139\" stroke=\"#000000\" d=\"M1113,-179.5C1113,-179.5 1038,-179.5 1038,-179.5 1032,-179.5 1026,-173.5 1026,-167.5 1026,-167.5 1026,-123.5 1026,-123.5 1026,-117.5 1032,-111.5 1038,-111.5 1038,-111.5 1113,-111.5 1113,-111.5 1119,-111.5 1125,-117.5 1125,-123.5 1125,-123.5 1125,-167.5 1125,-167.5 1125,-173.5 1119,-179.5 1113,-179.5\"/>\n<text text-anchor=\"middle\" x=\"1075.5\" y=\"-164.3\" font-family=\"Helvetica,sans-Serif\" font-size=\"14.00\" fill=\"#000000\">gini = 0.0</text>\n<text text-anchor=\"middle\" x=\"1075.5\" y=\"-149.3\" font-family=\"Helvetica,sans-Serif\" font-size=\"14.00\" fill=\"#000000\">samples = 1</text>\n<text text-anchor=\"middle\" x=\"1075.5\" y=\"-134.3\" font-family=\"Helvetica,sans-Serif\" font-size=\"14.00\" fill=\"#000000\">value = [1, 0]</text>\n<text text-anchor=\"middle\" x=\"1075.5\" y=\"-119.3\" font-family=\"Helvetica,sans-Serif\" font-size=\"14.00\" fill=\"#000000\">class = 0</text>\n</g>\n<!-- 33&#45;&gt;34 -->\n<g id=\"edge34\" class=\"edge\">\n<title>33&#45;&gt;34</title>\n<path fill=\"none\" stroke=\"#000000\" d=\"M1069.6478,-222.8796C1070.4545,-212.2134 1071.3251,-200.7021 1072.1419,-189.9015\"/>\n<polygon fill=\"#000000\" stroke=\"#000000\" points=\"1075.6405,-190.0504 1072.9048,-179.8149 1068.6605,-189.5225 1075.6405,-190.0504\"/>\n</g>\n<!-- 35 -->\n<g id=\"node36\" class=\"node\">\n<title>35</title>\n<path fill=\"#399de5\" stroke=\"#000000\" d=\"M1230,-179.5C1230,-179.5 1155,-179.5 1155,-179.5 1149,-179.5 1143,-173.5 1143,-167.5 1143,-167.5 1143,-123.5 1143,-123.5 1143,-117.5 1149,-111.5 1155,-111.5 1155,-111.5 1230,-111.5 1230,-111.5 1236,-111.5 1242,-117.5 1242,-123.5 1242,-123.5 1242,-167.5 1242,-167.5 1242,-173.5 1236,-179.5 1230,-179.5\"/>\n<text text-anchor=\"middle\" x=\"1192.5\" y=\"-164.3\" font-family=\"Helvetica,sans-Serif\" font-size=\"14.00\" fill=\"#000000\">gini = 0.0</text>\n<text text-anchor=\"middle\" x=\"1192.5\" y=\"-149.3\" font-family=\"Helvetica,sans-Serif\" font-size=\"14.00\" fill=\"#000000\">samples = 2</text>\n<text text-anchor=\"middle\" x=\"1192.5\" y=\"-134.3\" font-family=\"Helvetica,sans-Serif\" font-size=\"14.00\" fill=\"#000000\">value = [0, 2]</text>\n<text text-anchor=\"middle\" x=\"1192.5\" y=\"-119.3\" font-family=\"Helvetica,sans-Serif\" font-size=\"14.00\" fill=\"#000000\">class = 1</text>\n</g>\n<!-- 33&#45;&gt;35 -->\n<g id=\"edge35\" class=\"edge\">\n<title>33&#45;&gt;35</title>\n<path fill=\"none\" stroke=\"#000000\" d=\"M1110.5687,-222.8796C1122.9102,-211.2237 1136.3202,-198.5587 1148.649,-186.9148\"/>\n<polygon fill=\"#000000\" stroke=\"#000000\" points=\"1151.2996,-189.2258 1156.1665,-179.8149 1146.4932,-184.1366 1151.2996,-189.2258\"/>\n</g>\n<!-- 37 -->\n<g id=\"node38\" class=\"node\">\n<title>37</title>\n<path fill=\"#e58139\" stroke=\"#000000\" d=\"M1236,-298.5C1236,-298.5 1161,-298.5 1161,-298.5 1155,-298.5 1149,-292.5 1149,-286.5 1149,-286.5 1149,-242.5 1149,-242.5 1149,-236.5 1155,-230.5 1161,-230.5 1161,-230.5 1236,-230.5 1236,-230.5 1242,-230.5 1248,-236.5 1248,-242.5 1248,-242.5 1248,-286.5 1248,-286.5 1248,-292.5 1242,-298.5 1236,-298.5\"/>\n<text text-anchor=\"middle\" x=\"1198.5\" y=\"-283.3\" font-family=\"Helvetica,sans-Serif\" font-size=\"14.00\" fill=\"#000000\">gini = 0.0</text>\n<text text-anchor=\"middle\" x=\"1198.5\" y=\"-268.3\" font-family=\"Helvetica,sans-Serif\" font-size=\"14.00\" fill=\"#000000\">samples = 1</text>\n<text text-anchor=\"middle\" x=\"1198.5\" y=\"-253.3\" font-family=\"Helvetica,sans-Serif\" font-size=\"14.00\" fill=\"#000000\">value = [1, 0]</text>\n<text text-anchor=\"middle\" x=\"1198.5\" y=\"-238.3\" font-family=\"Helvetica,sans-Serif\" font-size=\"14.00\" fill=\"#000000\">class = 0</text>\n</g>\n<!-- 36&#45;&gt;37 -->\n<g id=\"edge37\" class=\"edge\">\n<title>36&#45;&gt;37</title>\n<path fill=\"none\" stroke=\"#000000\" d=\"M1198.5,-341.8796C1198.5,-331.2134 1198.5,-319.7021 1198.5,-308.9015\"/>\n<polygon fill=\"#000000\" stroke=\"#000000\" points=\"1202.0001,-308.8149 1198.5,-298.8149 1195.0001,-308.815 1202.0001,-308.8149\"/>\n</g>\n<!-- 38 -->\n<g id=\"node39\" class=\"node\">\n<title>38</title>\n<path fill=\"#399de5\" stroke=\"#000000\" d=\"M1353,-298.5C1353,-298.5 1278,-298.5 1278,-298.5 1272,-298.5 1266,-292.5 1266,-286.5 1266,-286.5 1266,-242.5 1266,-242.5 1266,-236.5 1272,-230.5 1278,-230.5 1278,-230.5 1353,-230.5 1353,-230.5 1359,-230.5 1365,-236.5 1365,-242.5 1365,-242.5 1365,-286.5 1365,-286.5 1365,-292.5 1359,-298.5 1353,-298.5\"/>\n<text text-anchor=\"middle\" x=\"1315.5\" y=\"-283.3\" font-family=\"Helvetica,sans-Serif\" font-size=\"14.00\" fill=\"#000000\">gini = 0.0</text>\n<text text-anchor=\"middle\" x=\"1315.5\" y=\"-268.3\" font-family=\"Helvetica,sans-Serif\" font-size=\"14.00\" fill=\"#000000\">samples = 1</text>\n<text text-anchor=\"middle\" x=\"1315.5\" y=\"-253.3\" font-family=\"Helvetica,sans-Serif\" font-size=\"14.00\" fill=\"#000000\">value = [0, 1]</text>\n<text text-anchor=\"middle\" x=\"1315.5\" y=\"-238.3\" font-family=\"Helvetica,sans-Serif\" font-size=\"14.00\" fill=\"#000000\">class = 1</text>\n</g>\n<!-- 36&#45;&gt;38 -->\n<g id=\"edge38\" class=\"edge\">\n<title>36&#45;&gt;38</title>\n<path fill=\"none\" stroke=\"#000000\" d=\"M1239.4209,-341.8796C1250.7728,-330.3337 1263.0982,-317.7976 1274.457,-306.2446\"/>\n<polygon fill=\"#000000\" stroke=\"#000000\" points=\"1277.2466,-308.3995 1281.7618,-298.8149 1272.2551,-303.4919 1277.2466,-308.3995\"/>\n</g>\n<!-- 40 -->\n<g id=\"node41\" class=\"node\">\n<title>40</title>\n<path fill=\"#ea995e\" stroke=\"#000000\" d=\"M1510.5,-663C1510.5,-663 1406.5,-663 1406.5,-663 1400.5,-663 1394.5,-657 1394.5,-651 1394.5,-651 1394.5,-592 1394.5,-592 1394.5,-586 1400.5,-580 1406.5,-580 1406.5,-580 1510.5,-580 1510.5,-580 1516.5,-580 1522.5,-586 1522.5,-592 1522.5,-592 1522.5,-651 1522.5,-651 1522.5,-657 1516.5,-663 1510.5,-663\"/>\n<text text-anchor=\"middle\" x=\"1458.5\" y=\"-647.8\" font-family=\"Helvetica,sans-Serif\" font-size=\"14.00\" fill=\"#000000\">weight &lt;= 2702.5</text>\n<text text-anchor=\"middle\" x=\"1458.5\" y=\"-632.8\" font-family=\"Helvetica,sans-Serif\" font-size=\"14.00\" fill=\"#000000\">gini = 0.266</text>\n<text text-anchor=\"middle\" x=\"1458.5\" y=\"-617.8\" font-family=\"Helvetica,sans-Serif\" font-size=\"14.00\" fill=\"#000000\">samples = 19</text>\n<text text-anchor=\"middle\" x=\"1458.5\" y=\"-602.8\" font-family=\"Helvetica,sans-Serif\" font-size=\"14.00\" fill=\"#000000\">value = [16, 3]</text>\n<text text-anchor=\"middle\" x=\"1458.5\" y=\"-587.8\" font-family=\"Helvetica,sans-Serif\" font-size=\"14.00\" fill=\"#000000\">class = 0</text>\n</g>\n<!-- 39&#45;&gt;40 -->\n<g id=\"edge40\" class=\"edge\">\n<title>39&#45;&gt;40</title>\n<path fill=\"none\" stroke=\"#000000\" d=\"M1501.4164,-698.8796C1496.6211,-690.2335 1491.5178,-681.0322 1486.5662,-672.1042\"/>\n<polygon fill=\"#000000\" stroke=\"#000000\" points=\"1489.5931,-670.3455 1481.6821,-663.2981 1483.4716,-673.7407 1489.5931,-670.3455\"/>\n</g>\n<!-- 47 -->\n<g id=\"node48\" class=\"node\">\n<title>47</title>\n<path fill=\"#399de5\" stroke=\"#000000\" d=\"M1628,-655.5C1628,-655.5 1553,-655.5 1553,-655.5 1547,-655.5 1541,-649.5 1541,-643.5 1541,-643.5 1541,-599.5 1541,-599.5 1541,-593.5 1547,-587.5 1553,-587.5 1553,-587.5 1628,-587.5 1628,-587.5 1634,-587.5 1640,-593.5 1640,-599.5 1640,-599.5 1640,-643.5 1640,-643.5 1640,-649.5 1634,-655.5 1628,-655.5\"/>\n<text text-anchor=\"middle\" x=\"1590.5\" y=\"-640.3\" font-family=\"Helvetica,sans-Serif\" font-size=\"14.00\" fill=\"#000000\">gini = 0.0</text>\n<text text-anchor=\"middle\" x=\"1590.5\" y=\"-625.3\" font-family=\"Helvetica,sans-Serif\" font-size=\"14.00\" fill=\"#000000\">samples = 9</text>\n<text text-anchor=\"middle\" x=\"1590.5\" y=\"-610.3\" font-family=\"Helvetica,sans-Serif\" font-size=\"14.00\" fill=\"#000000\">value = [0, 9]</text>\n<text text-anchor=\"middle\" x=\"1590.5\" y=\"-595.3\" font-family=\"Helvetica,sans-Serif\" font-size=\"14.00\" fill=\"#000000\">class = 1</text>\n</g>\n<!-- 39&#45;&gt;47 -->\n<g id=\"edge47\" class=\"edge\">\n<title>39&#45;&gt;47</title>\n<path fill=\"none\" stroke=\"#000000\" d=\"M1547.5836,-698.8796C1553.7433,-687.7735 1560.4111,-675.7513 1566.6129,-664.5691\"/>\n<polygon fill=\"#000000\" stroke=\"#000000\" points=\"1569.6787,-666.2576 1571.4682,-655.8149 1563.5572,-662.8624 1569.6787,-666.2576\"/>\n</g>\n<!-- 41 -->\n<g id=\"node42\" class=\"node\">\n<title>41</title>\n<path fill=\"#ffffff\" stroke=\"#000000\" d=\"M1470,-544C1470,-544 1395,-544 1395,-544 1389,-544 1383,-538 1383,-532 1383,-532 1383,-473 1383,-473 1383,-467 1389,-461 1395,-461 1395,-461 1470,-461 1470,-461 1476,-461 1482,-467 1482,-473 1482,-473 1482,-532 1482,-532 1482,-538 1476,-544 1470,-544\"/>\n<text text-anchor=\"middle\" x=\"1432.5\" y=\"-528.8\" font-family=\"Helvetica,sans-Serif\" font-size=\"14.00\" fill=\"#000000\">year &lt;= 77.5</text>\n<text text-anchor=\"middle\" x=\"1432.5\" y=\"-513.8\" font-family=\"Helvetica,sans-Serif\" font-size=\"14.00\" fill=\"#000000\">gini = 0.5</text>\n<text text-anchor=\"middle\" x=\"1432.5\" y=\"-498.8\" font-family=\"Helvetica,sans-Serif\" font-size=\"14.00\" fill=\"#000000\">samples = 6</text>\n<text text-anchor=\"middle\" x=\"1432.5\" y=\"-483.8\" font-family=\"Helvetica,sans-Serif\" font-size=\"14.00\" fill=\"#000000\">value = [3, 3]</text>\n<text text-anchor=\"middle\" x=\"1432.5\" y=\"-468.8\" font-family=\"Helvetica,sans-Serif\" font-size=\"14.00\" fill=\"#000000\">class = 0</text>\n</g>\n<!-- 40&#45;&gt;41 -->\n<g id=\"edge41\" class=\"edge\">\n<title>40&#45;&gt;41</title>\n<path fill=\"none\" stroke=\"#000000\" d=\"M1449.4065,-579.8796C1447.5961,-571.5938 1445.6743,-562.798 1443.8005,-554.2216\"/>\n<polygon fill=\"#000000\" stroke=\"#000000\" points=\"1447.1863,-553.3205 1441.6324,-544.2981 1440.3476,-554.8147 1447.1863,-553.3205\"/>\n</g>\n<!-- 46 -->\n<g id=\"node47\" class=\"node\">\n<title>46</title>\n<path fill=\"#e58139\" stroke=\"#000000\" d=\"M1595,-536.5C1595,-536.5 1512,-536.5 1512,-536.5 1506,-536.5 1500,-530.5 1500,-524.5 1500,-524.5 1500,-480.5 1500,-480.5 1500,-474.5 1506,-468.5 1512,-468.5 1512,-468.5 1595,-468.5 1595,-468.5 1601,-468.5 1607,-474.5 1607,-480.5 1607,-480.5 1607,-524.5 1607,-524.5 1607,-530.5 1601,-536.5 1595,-536.5\"/>\n<text text-anchor=\"middle\" x=\"1553.5\" y=\"-521.3\" font-family=\"Helvetica,sans-Serif\" font-size=\"14.00\" fill=\"#000000\">gini = 0.0</text>\n<text text-anchor=\"middle\" x=\"1553.5\" y=\"-506.3\" font-family=\"Helvetica,sans-Serif\" font-size=\"14.00\" fill=\"#000000\">samples = 13</text>\n<text text-anchor=\"middle\" x=\"1553.5\" y=\"-491.3\" font-family=\"Helvetica,sans-Serif\" font-size=\"14.00\" fill=\"#000000\">value = [13, 0]</text>\n<text text-anchor=\"middle\" x=\"1553.5\" y=\"-476.3\" font-family=\"Helvetica,sans-Serif\" font-size=\"14.00\" fill=\"#000000\">class = 0</text>\n</g>\n<!-- 40&#45;&gt;46 -->\n<g id=\"edge46\" class=\"edge\">\n<title>40&#45;&gt;46</title>\n<path fill=\"none\" stroke=\"#000000\" d=\"M1491.7264,-579.8796C1500.7681,-568.5536 1510.5705,-556.2748 1519.6466,-544.9058\"/>\n<polygon fill=\"#000000\" stroke=\"#000000\" points=\"1522.602,-546.8137 1526.1057,-536.8149 1517.1315,-542.4464 1522.602,-546.8137\"/>\n</g>\n<!-- 42 -->\n<g id=\"node43\" class=\"node\">\n<title>42</title>\n<path fill=\"#eeab7b\" stroke=\"#000000\" d=\"M1484.5,-425C1484.5,-425 1380.5,-425 1380.5,-425 1374.5,-425 1368.5,-419 1368.5,-413 1368.5,-413 1368.5,-354 1368.5,-354 1368.5,-348 1374.5,-342 1380.5,-342 1380.5,-342 1484.5,-342 1484.5,-342 1490.5,-342 1496.5,-348 1496.5,-354 1496.5,-354 1496.5,-413 1496.5,-413 1496.5,-419 1490.5,-425 1484.5,-425\"/>\n<text text-anchor=\"middle\" x=\"1432.5\" y=\"-409.8\" font-family=\"Helvetica,sans-Serif\" font-size=\"14.00\" fill=\"#000000\">weight &lt;= 2630.0</text>\n<text text-anchor=\"middle\" x=\"1432.5\" y=\"-394.8\" font-family=\"Helvetica,sans-Serif\" font-size=\"14.00\" fill=\"#000000\">gini = 0.375</text>\n<text text-anchor=\"middle\" x=\"1432.5\" y=\"-379.8\" font-family=\"Helvetica,sans-Serif\" font-size=\"14.00\" fill=\"#000000\">samples = 4</text>\n<text text-anchor=\"middle\" x=\"1432.5\" y=\"-364.8\" font-family=\"Helvetica,sans-Serif\" font-size=\"14.00\" fill=\"#000000\">value = [3, 1]</text>\n<text text-anchor=\"middle\" x=\"1432.5\" y=\"-349.8\" font-family=\"Helvetica,sans-Serif\" font-size=\"14.00\" fill=\"#000000\">class = 0</text>\n</g>\n<!-- 41&#45;&gt;42 -->\n<g id=\"edge42\" class=\"edge\">\n<title>41&#45;&gt;42</title>\n<path fill=\"none\" stroke=\"#000000\" d=\"M1432.5,-460.8796C1432.5,-452.6838 1432.5,-443.9891 1432.5,-435.5013\"/>\n<polygon fill=\"#000000\" stroke=\"#000000\" points=\"1436.0001,-435.298 1432.5,-425.2981 1429.0001,-435.2981 1436.0001,-435.298\"/>\n</g>\n<!-- 45 -->\n<g id=\"node46\" class=\"node\">\n<title>45</title>\n<path fill=\"#399de5\" stroke=\"#000000\" d=\"M1602,-417.5C1602,-417.5 1527,-417.5 1527,-417.5 1521,-417.5 1515,-411.5 1515,-405.5 1515,-405.5 1515,-361.5 1515,-361.5 1515,-355.5 1521,-349.5 1527,-349.5 1527,-349.5 1602,-349.5 1602,-349.5 1608,-349.5 1614,-355.5 1614,-361.5 1614,-361.5 1614,-405.5 1614,-405.5 1614,-411.5 1608,-417.5 1602,-417.5\"/>\n<text text-anchor=\"middle\" x=\"1564.5\" y=\"-402.3\" font-family=\"Helvetica,sans-Serif\" font-size=\"14.00\" fill=\"#000000\">gini = 0.0</text>\n<text text-anchor=\"middle\" x=\"1564.5\" y=\"-387.3\" font-family=\"Helvetica,sans-Serif\" font-size=\"14.00\" fill=\"#000000\">samples = 2</text>\n<text text-anchor=\"middle\" x=\"1564.5\" y=\"-372.3\" font-family=\"Helvetica,sans-Serif\" font-size=\"14.00\" fill=\"#000000\">value = [0, 2]</text>\n<text text-anchor=\"middle\" x=\"1564.5\" y=\"-357.3\" font-family=\"Helvetica,sans-Serif\" font-size=\"14.00\" fill=\"#000000\">class = 1</text>\n</g>\n<!-- 41&#45;&gt;45 -->\n<g id=\"edge45\" class=\"edge\">\n<title>41&#45;&gt;45</title>\n<path fill=\"none\" stroke=\"#000000\" d=\"M1478.6672,-460.8796C1491.7183,-449.1138 1505.9101,-436.3197 1518.9261,-424.5855\"/>\n<polygon fill=\"#000000\" stroke=\"#000000\" points=\"1521.3526,-427.1104 1526.4364,-417.8149 1516.6654,-421.9113 1521.3526,-427.1104\"/>\n</g>\n<!-- 43 -->\n<g id=\"node44\" class=\"node\">\n<title>43</title>\n<path fill=\"#e58139\" stroke=\"#000000\" d=\"M1470,-298.5C1470,-298.5 1395,-298.5 1395,-298.5 1389,-298.5 1383,-292.5 1383,-286.5 1383,-286.5 1383,-242.5 1383,-242.5 1383,-236.5 1389,-230.5 1395,-230.5 1395,-230.5 1470,-230.5 1470,-230.5 1476,-230.5 1482,-236.5 1482,-242.5 1482,-242.5 1482,-286.5 1482,-286.5 1482,-292.5 1476,-298.5 1470,-298.5\"/>\n<text text-anchor=\"middle\" x=\"1432.5\" y=\"-283.3\" font-family=\"Helvetica,sans-Serif\" font-size=\"14.00\" fill=\"#000000\">gini = 0.0</text>\n<text text-anchor=\"middle\" x=\"1432.5\" y=\"-268.3\" font-family=\"Helvetica,sans-Serif\" font-size=\"14.00\" fill=\"#000000\">samples = 3</text>\n<text text-anchor=\"middle\" x=\"1432.5\" y=\"-253.3\" font-family=\"Helvetica,sans-Serif\" font-size=\"14.00\" fill=\"#000000\">value = [3, 0]</text>\n<text text-anchor=\"middle\" x=\"1432.5\" y=\"-238.3\" font-family=\"Helvetica,sans-Serif\" font-size=\"14.00\" fill=\"#000000\">class = 0</text>\n</g>\n<!-- 42&#45;&gt;43 -->\n<g id=\"edge43\" class=\"edge\">\n<title>42&#45;&gt;43</title>\n<path fill=\"none\" stroke=\"#000000\" d=\"M1432.5,-341.8796C1432.5,-331.2134 1432.5,-319.7021 1432.5,-308.9015\"/>\n<polygon fill=\"#000000\" stroke=\"#000000\" points=\"1436.0001,-308.8149 1432.5,-298.8149 1429.0001,-308.815 1436.0001,-308.8149\"/>\n</g>\n<!-- 44 -->\n<g id=\"node45\" class=\"node\">\n<title>44</title>\n<path fill=\"#399de5\" stroke=\"#000000\" d=\"M1587,-298.5C1587,-298.5 1512,-298.5 1512,-298.5 1506,-298.5 1500,-292.5 1500,-286.5 1500,-286.5 1500,-242.5 1500,-242.5 1500,-236.5 1506,-230.5 1512,-230.5 1512,-230.5 1587,-230.5 1587,-230.5 1593,-230.5 1599,-236.5 1599,-242.5 1599,-242.5 1599,-286.5 1599,-286.5 1599,-292.5 1593,-298.5 1587,-298.5\"/>\n<text text-anchor=\"middle\" x=\"1549.5\" y=\"-283.3\" font-family=\"Helvetica,sans-Serif\" font-size=\"14.00\" fill=\"#000000\">gini = 0.0</text>\n<text text-anchor=\"middle\" x=\"1549.5\" y=\"-268.3\" font-family=\"Helvetica,sans-Serif\" font-size=\"14.00\" fill=\"#000000\">samples = 1</text>\n<text text-anchor=\"middle\" x=\"1549.5\" y=\"-253.3\" font-family=\"Helvetica,sans-Serif\" font-size=\"14.00\" fill=\"#000000\">value = [0, 1]</text>\n<text text-anchor=\"middle\" x=\"1549.5\" y=\"-238.3\" font-family=\"Helvetica,sans-Serif\" font-size=\"14.00\" fill=\"#000000\">class = 1</text>\n</g>\n<!-- 42&#45;&gt;44 -->\n<g id=\"edge44\" class=\"edge\">\n<title>42&#45;&gt;44</title>\n<path fill=\"none\" stroke=\"#000000\" d=\"M1473.4209,-341.8796C1484.7728,-330.3337 1497.0982,-317.7976 1508.457,-306.2446\"/>\n<polygon fill=\"#000000\" stroke=\"#000000\" points=\"1511.2466,-308.3995 1515.7618,-298.8149 1506.2551,-303.4919 1511.2466,-308.3995\"/>\n</g>\n<!-- 49 -->\n<g id=\"node50\" class=\"node\">\n<title>49</title>\n<path fill=\"#e6843e\" stroke=\"#000000\" d=\"M1804.5,-782C1804.5,-782 1712.5,-782 1712.5,-782 1706.5,-782 1700.5,-776 1700.5,-770 1700.5,-770 1700.5,-711 1700.5,-711 1700.5,-705 1706.5,-699 1712.5,-699 1712.5,-699 1804.5,-699 1804.5,-699 1810.5,-699 1816.5,-705 1816.5,-711 1816.5,-711 1816.5,-770 1816.5,-770 1816.5,-776 1810.5,-782 1804.5,-782\"/>\n<text text-anchor=\"middle\" x=\"1758.5\" y=\"-766.8\" font-family=\"Helvetica,sans-Serif\" font-size=\"14.00\" fill=\"#000000\">year &lt;= 80.5</text>\n<text text-anchor=\"middle\" x=\"1758.5\" y=\"-751.8\" font-family=\"Helvetica,sans-Serif\" font-size=\"14.00\" fill=\"#000000\">gini = 0.045</text>\n<text text-anchor=\"middle\" x=\"1758.5\" y=\"-736.8\" font-family=\"Helvetica,sans-Serif\" font-size=\"14.00\" fill=\"#000000\">samples = 130</text>\n<text text-anchor=\"middle\" x=\"1758.5\" y=\"-721.8\" font-family=\"Helvetica,sans-Serif\" font-size=\"14.00\" fill=\"#000000\">value = [127, 3]</text>\n<text text-anchor=\"middle\" x=\"1758.5\" y=\"-706.8\" font-family=\"Helvetica,sans-Serif\" font-size=\"14.00\" fill=\"#000000\">class = 0</text>\n</g>\n<!-- 48&#45;&gt;49 -->\n<g id=\"edge49\" class=\"edge\">\n<title>48&#45;&gt;49</title>\n<path fill=\"none\" stroke=\"#000000\" d=\"M1758.5,-817.8796C1758.5,-809.6838 1758.5,-800.9891 1758.5,-792.5013\"/>\n<polygon fill=\"#000000\" stroke=\"#000000\" points=\"1762.0001,-792.298 1758.5,-782.2981 1755.0001,-792.2981 1762.0001,-792.298\"/>\n</g>\n<!-- 58 -->\n<g id=\"node59\" class=\"node\">\n<title>58</title>\n<path fill=\"#399de5\" stroke=\"#000000\" d=\"M1922,-774.5C1922,-774.5 1847,-774.5 1847,-774.5 1841,-774.5 1835,-768.5 1835,-762.5 1835,-762.5 1835,-718.5 1835,-718.5 1835,-712.5 1841,-706.5 1847,-706.5 1847,-706.5 1922,-706.5 1922,-706.5 1928,-706.5 1934,-712.5 1934,-718.5 1934,-718.5 1934,-762.5 1934,-762.5 1934,-768.5 1928,-774.5 1922,-774.5\"/>\n<text text-anchor=\"middle\" x=\"1884.5\" y=\"-759.3\" font-family=\"Helvetica,sans-Serif\" font-size=\"14.00\" fill=\"#000000\">gini = 0.0</text>\n<text text-anchor=\"middle\" x=\"1884.5\" y=\"-744.3\" font-family=\"Helvetica,sans-Serif\" font-size=\"14.00\" fill=\"#000000\">samples = 1</text>\n<text text-anchor=\"middle\" x=\"1884.5\" y=\"-729.3\" font-family=\"Helvetica,sans-Serif\" font-size=\"14.00\" fill=\"#000000\">value = [0, 1]</text>\n<text text-anchor=\"middle\" x=\"1884.5\" y=\"-714.3\" font-family=\"Helvetica,sans-Serif\" font-size=\"14.00\" fill=\"#000000\">class = 1</text>\n</g>\n<!-- 48&#45;&gt;58 -->\n<g id=\"edge58\" class=\"edge\">\n<title>48&#45;&gt;58</title>\n<path fill=\"none\" stroke=\"#000000\" d=\"M1802.5687,-817.8796C1814.9102,-806.2237 1828.3202,-793.5587 1840.649,-781.9148\"/>\n<polygon fill=\"#000000\" stroke=\"#000000\" points=\"1843.2996,-784.2258 1848.1665,-774.8149 1838.4932,-779.1366 1843.2996,-784.2258\"/>\n</g>\n<!-- 50 -->\n<g id=\"node51\" class=\"node\">\n<title>50</title>\n<path fill=\"#e5823b\" stroke=\"#000000\" d=\"M1819.5,-663C1819.5,-663 1697.5,-663 1697.5,-663 1691.5,-663 1685.5,-657 1685.5,-651 1685.5,-651 1685.5,-592 1685.5,-592 1685.5,-586 1691.5,-580 1697.5,-580 1697.5,-580 1819.5,-580 1819.5,-580 1825.5,-580 1831.5,-586 1831.5,-592 1831.5,-592 1831.5,-651 1831.5,-651 1831.5,-657 1825.5,-663 1819.5,-663\"/>\n<text text-anchor=\"middle\" x=\"1758.5\" y=\"-647.8\" font-family=\"Helvetica,sans-Serif\" font-size=\"14.00\" fill=\"#000000\">horsepower &lt;= 83.0</text>\n<text text-anchor=\"middle\" x=\"1758.5\" y=\"-632.8\" font-family=\"Helvetica,sans-Serif\" font-size=\"14.00\" fill=\"#000000\">gini = 0.016</text>\n<text text-anchor=\"middle\" x=\"1758.5\" y=\"-617.8\" font-family=\"Helvetica,sans-Serif\" font-size=\"14.00\" fill=\"#000000\">samples = 124</text>\n<text text-anchor=\"middle\" x=\"1758.5\" y=\"-602.8\" font-family=\"Helvetica,sans-Serif\" font-size=\"14.00\" fill=\"#000000\">value = [123, 1]</text>\n<text text-anchor=\"middle\" x=\"1758.5\" y=\"-587.8\" font-family=\"Helvetica,sans-Serif\" font-size=\"14.00\" fill=\"#000000\">class = 0</text>\n</g>\n<!-- 49&#45;&gt;50 -->\n<g id=\"edge50\" class=\"edge\">\n<title>49&#45;&gt;50</title>\n<path fill=\"none\" stroke=\"#000000\" d=\"M1758.5,-698.8796C1758.5,-690.6838 1758.5,-681.9891 1758.5,-673.5013\"/>\n<polygon fill=\"#000000\" stroke=\"#000000\" points=\"1762.0001,-673.298 1758.5,-663.2981 1755.0001,-673.2981 1762.0001,-673.298\"/>\n</g>\n<!-- 55 -->\n<g id=\"node56\" class=\"node\">\n<title>55</title>\n<path fill=\"#f2c09c\" stroke=\"#000000\" d=\"M2053.5,-663C2053.5,-663 1913.5,-663 1913.5,-663 1907.5,-663 1901.5,-657 1901.5,-651 1901.5,-651 1901.5,-592 1901.5,-592 1901.5,-586 1907.5,-580 1913.5,-580 1913.5,-580 2053.5,-580 2053.5,-580 2059.5,-580 2065.5,-586 2065.5,-592 2065.5,-592 2065.5,-651 2065.5,-651 2065.5,-657 2059.5,-663 2053.5,-663\"/>\n<text text-anchor=\"middle\" x=\"1983.5\" y=\"-647.8\" font-family=\"Helvetica,sans-Serif\" font-size=\"14.00\" fill=\"#000000\">displacement &lt;= 247.0</text>\n<text text-anchor=\"middle\" x=\"1983.5\" y=\"-632.8\" font-family=\"Helvetica,sans-Serif\" font-size=\"14.00\" fill=\"#000000\">gini = 0.444</text>\n<text text-anchor=\"middle\" x=\"1983.5\" y=\"-617.8\" font-family=\"Helvetica,sans-Serif\" font-size=\"14.00\" fill=\"#000000\">samples = 6</text>\n<text text-anchor=\"middle\" x=\"1983.5\" y=\"-602.8\" font-family=\"Helvetica,sans-Serif\" font-size=\"14.00\" fill=\"#000000\">value = [4, 2]</text>\n<text text-anchor=\"middle\" x=\"1983.5\" y=\"-587.8\" font-family=\"Helvetica,sans-Serif\" font-size=\"14.00\" fill=\"#000000\">class = 0</text>\n</g>\n<!-- 49&#45;&gt;55 -->\n<g id=\"edge55\" class=\"edge\">\n<title>49&#45;&gt;55</title>\n<path fill=\"none\" stroke=\"#000000\" d=\"M1816.764,-703.9424C1819.703,-702.2459 1822.6266,-700.5896 1825.5,-699 1846.765,-687.2363 1870.0687,-675.3009 1892.0915,-664.4363\"/>\n<polygon fill=\"#000000\" stroke=\"#000000\" points=\"1893.6769,-667.5571 1901.1126,-660.0098 1890.5933,-661.2728 1893.6769,-667.5571\"/>\n</g>\n<!-- 51 -->\n<g id=\"node52\" class=\"node\">\n<title>51</title>\n<path fill=\"#eeab7b\" stroke=\"#000000\" d=\"M1769.5,-544C1769.5,-544 1637.5,-544 1637.5,-544 1631.5,-544 1625.5,-538 1625.5,-532 1625.5,-532 1625.5,-473 1625.5,-473 1625.5,-467 1631.5,-461 1637.5,-461 1637.5,-461 1769.5,-461 1769.5,-461 1775.5,-461 1781.5,-467 1781.5,-473 1781.5,-473 1781.5,-532 1781.5,-532 1781.5,-538 1775.5,-544 1769.5,-544\"/>\n<text text-anchor=\"middle\" x=\"1703.5\" y=\"-528.8\" font-family=\"Helvetica,sans-Serif\" font-size=\"14.00\" fill=\"#000000\">acceleration &lt;= 18.55</text>\n<text text-anchor=\"middle\" x=\"1703.5\" y=\"-513.8\" font-family=\"Helvetica,sans-Serif\" font-size=\"14.00\" fill=\"#000000\">gini = 0.375</text>\n<text text-anchor=\"middle\" x=\"1703.5\" y=\"-498.8\" font-family=\"Helvetica,sans-Serif\" font-size=\"14.00\" fill=\"#000000\">samples = 4</text>\n<text text-anchor=\"middle\" x=\"1703.5\" y=\"-483.8\" font-family=\"Helvetica,sans-Serif\" font-size=\"14.00\" fill=\"#000000\">value = [3, 1]</text>\n<text text-anchor=\"middle\" x=\"1703.5\" y=\"-468.8\" font-family=\"Helvetica,sans-Serif\" font-size=\"14.00\" fill=\"#000000\">class = 0</text>\n</g>\n<!-- 50&#45;&gt;51 -->\n<g id=\"edge51\" class=\"edge\">\n<title>50&#45;&gt;51</title>\n<path fill=\"none\" stroke=\"#000000\" d=\"M1739.2637,-579.8796C1735.3092,-571.3236 1731.1034,-562.2238 1727.0175,-553.3833\"/>\n<polygon fill=\"#000000\" stroke=\"#000000\" points=\"1730.191,-551.907 1722.8184,-544.2981 1723.8368,-554.8439 1730.191,-551.907\"/>\n</g>\n<!-- 54 -->\n<g id=\"node55\" class=\"node\">\n<title>54</title>\n<path fill=\"#e58139\" stroke=\"#000000\" d=\"M1903.5,-536.5C1903.5,-536.5 1811.5,-536.5 1811.5,-536.5 1805.5,-536.5 1799.5,-530.5 1799.5,-524.5 1799.5,-524.5 1799.5,-480.5 1799.5,-480.5 1799.5,-474.5 1805.5,-468.5 1811.5,-468.5 1811.5,-468.5 1903.5,-468.5 1903.5,-468.5 1909.5,-468.5 1915.5,-474.5 1915.5,-480.5 1915.5,-480.5 1915.5,-524.5 1915.5,-524.5 1915.5,-530.5 1909.5,-536.5 1903.5,-536.5\"/>\n<text text-anchor=\"middle\" x=\"1857.5\" y=\"-521.3\" font-family=\"Helvetica,sans-Serif\" font-size=\"14.00\" fill=\"#000000\">gini = 0.0</text>\n<text text-anchor=\"middle\" x=\"1857.5\" y=\"-506.3\" font-family=\"Helvetica,sans-Serif\" font-size=\"14.00\" fill=\"#000000\">samples = 120</text>\n<text text-anchor=\"middle\" x=\"1857.5\" y=\"-491.3\" font-family=\"Helvetica,sans-Serif\" font-size=\"14.00\" fill=\"#000000\">value = [120, 0]</text>\n<text text-anchor=\"middle\" x=\"1857.5\" y=\"-476.3\" font-family=\"Helvetica,sans-Serif\" font-size=\"14.00\" fill=\"#000000\">class = 0</text>\n</g>\n<!-- 50&#45;&gt;54 -->\n<g id=\"edge54\" class=\"edge\">\n<title>50&#45;&gt;54</title>\n<path fill=\"none\" stroke=\"#000000\" d=\"M1793.1254,-579.8796C1802.6393,-568.4436 1812.9614,-556.0363 1822.4965,-544.575\"/>\n<polygon fill=\"#000000\" stroke=\"#000000\" points=\"1825.2474,-546.7409 1828.9523,-536.8149 1819.8661,-542.264 1825.2474,-546.7409\"/>\n</g>\n<!-- 52 -->\n<g id=\"node53\" class=\"node\">\n<title>52</title>\n<path fill=\"#399de5\" stroke=\"#000000\" d=\"M1730,-417.5C1730,-417.5 1655,-417.5 1655,-417.5 1649,-417.5 1643,-411.5 1643,-405.5 1643,-405.5 1643,-361.5 1643,-361.5 1643,-355.5 1649,-349.5 1655,-349.5 1655,-349.5 1730,-349.5 1730,-349.5 1736,-349.5 1742,-355.5 1742,-361.5 1742,-361.5 1742,-405.5 1742,-405.5 1742,-411.5 1736,-417.5 1730,-417.5\"/>\n<text text-anchor=\"middle\" x=\"1692.5\" y=\"-402.3\" font-family=\"Helvetica,sans-Serif\" font-size=\"14.00\" fill=\"#000000\">gini = 0.0</text>\n<text text-anchor=\"middle\" x=\"1692.5\" y=\"-387.3\" font-family=\"Helvetica,sans-Serif\" font-size=\"14.00\" fill=\"#000000\">samples = 1</text>\n<text text-anchor=\"middle\" x=\"1692.5\" y=\"-372.3\" font-family=\"Helvetica,sans-Serif\" font-size=\"14.00\" fill=\"#000000\">value = [0, 1]</text>\n<text text-anchor=\"middle\" x=\"1692.5\" y=\"-357.3\" font-family=\"Helvetica,sans-Serif\" font-size=\"14.00\" fill=\"#000000\">class = 1</text>\n</g>\n<!-- 51&#45;&gt;52 -->\n<g id=\"edge52\" class=\"edge\">\n<title>51&#45;&gt;52</title>\n<path fill=\"none\" stroke=\"#000000\" d=\"M1699.6527,-460.8796C1698.6668,-450.2134 1697.6027,-438.7021 1696.6043,-427.9015\"/>\n<polygon fill=\"#000000\" stroke=\"#000000\" points=\"1700.0776,-427.4503 1695.672,-417.8149 1693.1074,-428.0947 1700.0776,-427.4503\"/>\n</g>\n<!-- 53 -->\n<g id=\"node54\" class=\"node\">\n<title>53</title>\n<path fill=\"#e58139\" stroke=\"#000000\" d=\"M1847,-417.5C1847,-417.5 1772,-417.5 1772,-417.5 1766,-417.5 1760,-411.5 1760,-405.5 1760,-405.5 1760,-361.5 1760,-361.5 1760,-355.5 1766,-349.5 1772,-349.5 1772,-349.5 1847,-349.5 1847,-349.5 1853,-349.5 1859,-355.5 1859,-361.5 1859,-361.5 1859,-405.5 1859,-405.5 1859,-411.5 1853,-417.5 1847,-417.5\"/>\n<text text-anchor=\"middle\" x=\"1809.5\" y=\"-402.3\" font-family=\"Helvetica,sans-Serif\" font-size=\"14.00\" fill=\"#000000\">gini = 0.0</text>\n<text text-anchor=\"middle\" x=\"1809.5\" y=\"-387.3\" font-family=\"Helvetica,sans-Serif\" font-size=\"14.00\" fill=\"#000000\">samples = 3</text>\n<text text-anchor=\"middle\" x=\"1809.5\" y=\"-372.3\" font-family=\"Helvetica,sans-Serif\" font-size=\"14.00\" fill=\"#000000\">value = [3, 0]</text>\n<text text-anchor=\"middle\" x=\"1809.5\" y=\"-357.3\" font-family=\"Helvetica,sans-Serif\" font-size=\"14.00\" fill=\"#000000\">class = 0</text>\n</g>\n<!-- 51&#45;&gt;53 -->\n<g id=\"edge53\" class=\"edge\">\n<title>51&#45;&gt;53</title>\n<path fill=\"none\" stroke=\"#000000\" d=\"M1740.5737,-460.8796C1750.7603,-449.4436 1761.8122,-437.0363 1772.0215,-425.575\"/>\n<polygon fill=\"#000000\" stroke=\"#000000\" points=\"1774.8958,-427.6101 1778.9338,-417.8149 1769.6688,-422.9541 1774.8958,-427.6101\"/>\n</g>\n<!-- 56 -->\n<g id=\"node57\" class=\"node\">\n<title>56</title>\n<path fill=\"#e58139\" stroke=\"#000000\" d=\"M2021,-536.5C2021,-536.5 1946,-536.5 1946,-536.5 1940,-536.5 1934,-530.5 1934,-524.5 1934,-524.5 1934,-480.5 1934,-480.5 1934,-474.5 1940,-468.5 1946,-468.5 1946,-468.5 2021,-468.5 2021,-468.5 2027,-468.5 2033,-474.5 2033,-480.5 2033,-480.5 2033,-524.5 2033,-524.5 2033,-530.5 2027,-536.5 2021,-536.5\"/>\n<text text-anchor=\"middle\" x=\"1983.5\" y=\"-521.3\" font-family=\"Helvetica,sans-Serif\" font-size=\"14.00\" fill=\"#000000\">gini = 0.0</text>\n<text text-anchor=\"middle\" x=\"1983.5\" y=\"-506.3\" font-family=\"Helvetica,sans-Serif\" font-size=\"14.00\" fill=\"#000000\">samples = 4</text>\n<text text-anchor=\"middle\" x=\"1983.5\" y=\"-491.3\" font-family=\"Helvetica,sans-Serif\" font-size=\"14.00\" fill=\"#000000\">value = [4, 0]</text>\n<text text-anchor=\"middle\" x=\"1983.5\" y=\"-476.3\" font-family=\"Helvetica,sans-Serif\" font-size=\"14.00\" fill=\"#000000\">class = 0</text>\n</g>\n<!-- 55&#45;&gt;56 -->\n<g id=\"edge56\" class=\"edge\">\n<title>55&#45;&gt;56</title>\n<path fill=\"none\" stroke=\"#000000\" d=\"M1983.5,-579.8796C1983.5,-569.2134 1983.5,-557.7021 1983.5,-546.9015\"/>\n<polygon fill=\"#000000\" stroke=\"#000000\" points=\"1987.0001,-546.8149 1983.5,-536.8149 1980.0001,-546.815 1987.0001,-546.8149\"/>\n</g>\n<!-- 57 -->\n<g id=\"node58\" class=\"node\">\n<title>57</title>\n<path fill=\"#399de5\" stroke=\"#000000\" d=\"M2138,-536.5C2138,-536.5 2063,-536.5 2063,-536.5 2057,-536.5 2051,-530.5 2051,-524.5 2051,-524.5 2051,-480.5 2051,-480.5 2051,-474.5 2057,-468.5 2063,-468.5 2063,-468.5 2138,-468.5 2138,-468.5 2144,-468.5 2150,-474.5 2150,-480.5 2150,-480.5 2150,-524.5 2150,-524.5 2150,-530.5 2144,-536.5 2138,-536.5\"/>\n<text text-anchor=\"middle\" x=\"2100.5\" y=\"-521.3\" font-family=\"Helvetica,sans-Serif\" font-size=\"14.00\" fill=\"#000000\">gini = 0.0</text>\n<text text-anchor=\"middle\" x=\"2100.5\" y=\"-506.3\" font-family=\"Helvetica,sans-Serif\" font-size=\"14.00\" fill=\"#000000\">samples = 2</text>\n<text text-anchor=\"middle\" x=\"2100.5\" y=\"-491.3\" font-family=\"Helvetica,sans-Serif\" font-size=\"14.00\" fill=\"#000000\">value = [0, 2]</text>\n<text text-anchor=\"middle\" x=\"2100.5\" y=\"-476.3\" font-family=\"Helvetica,sans-Serif\" font-size=\"14.00\" fill=\"#000000\">class = 1</text>\n</g>\n<!-- 55&#45;&gt;57 -->\n<g id=\"edge57\" class=\"edge\">\n<title>55&#45;&gt;57</title>\n<path fill=\"none\" stroke=\"#000000\" d=\"M2024.4209,-579.8796C2035.7728,-568.3337 2048.0982,-555.7976 2059.457,-544.2446\"/>\n<polygon fill=\"#000000\" stroke=\"#000000\" points=\"2062.2466,-546.3995 2066.7618,-536.8149 2057.2551,-541.4919 2062.2466,-546.3995\"/>\n</g>\n</g>\n</svg>\n"
          },
          "metadata": {},
          "execution_count": 67
        }
      ]
    },
    {
      "cell_type": "markdown",
      "source": [
        "# Neural Network"
      ],
      "metadata": {
        "id": "Va8hej9BccKy"
      }
    },
    {
      "cell_type": "code",
      "source": [
        "# normalize data\n",
        "from sklearn import preprocessing\n",
        "scaler = preprocessing.StandardScaler().fit(X_train)\n",
        "X_train_scaled = scaler.transform(X_train)\n",
        "X_test_scaled = scaler.transform(X_test)"
      ],
      "metadata": {
        "id": "7mtDE1UgNES7"
      },
      "execution_count": null,
      "outputs": []
    },
    {
      "cell_type": "code",
      "source": [
        "# neural network\n",
        "from sklearn.neural_network import MLPClassifier\n",
        "nn = MLPClassifier(solver='lbfgs', hidden_layer_sizes=(5, 2), max_iter=500, random_state=1234)\n",
        "nn.fit(X_train_scaled, y_train)\n",
        "print(nn.score(X_train_scaled, y_train))"
      ],
      "metadata": {
        "colab": {
          "base_uri": "https://localhost:8080/"
        },
        "id": "RtnpofX8DwwB",
        "outputId": "62387d66-9b84-4074-eaf8-a2cb4aca6f7b"
      },
      "execution_count": null,
      "outputs": [
        {
          "output_type": "stream",
          "name": "stdout",
          "text": [
            "0.9421221864951769\n"
          ]
        }
      ]
    },
    {
      "cell_type": "code",
      "source": [
        "# test\n",
        "pred3 = nn.predict(X_test_scaled)\n",
        "\n",
        "# evaluate\n",
        "print('Accuracy = ', accuracy_score(y_test, pred3))\n",
        "print('Precision = ', precision_score(y_test, pred3))\n",
        "print('Recall = ', recall_score(y_test, pred3))\n",
        "print('F1 = ', f1_score(y_test, pred3))"
      ],
      "metadata": {
        "colab": {
          "base_uri": "https://localhost:8080/"
        },
        "id": "5_PvAC2AD0s-",
        "outputId": "c5a4506c-d03b-408b-82ed-8c8e6e3eaab4"
      },
      "execution_count": null,
      "outputs": [
        {
          "output_type": "stream",
          "name": "stdout",
          "text": [
            "Accuracy =  0.8846153846153846\n",
            "Precision =  0.8787878787878788\n",
            "Recall =  0.8529411764705882\n",
            "F1 =  0.8656716417910447\n"
          ]
        }
      ]
    },
    {
      "cell_type": "code",
      "source": [
        "# classification report\n",
        "print(classification_report(y_test, pred3))"
      ],
      "metadata": {
        "colab": {
          "base_uri": "https://localhost:8080/"
        },
        "id": "s6M0lUBITVmq",
        "outputId": "c100bf7d-8b07-4527-e8dd-520231908705"
      },
      "execution_count": null,
      "outputs": [
        {
          "output_type": "stream",
          "name": "stdout",
          "text": [
            "              precision    recall  f1-score   support\n",
            "\n",
            "           0       0.89      0.91      0.90        44\n",
            "           1       0.88      0.85      0.87        34\n",
            "\n",
            "    accuracy                           0.88        78\n",
            "   macro avg       0.88      0.88      0.88        78\n",
            "weighted avg       0.88      0.88      0.88        78\n",
            "\n"
          ]
        }
      ]
    },
    {
      "cell_type": "code",
      "source": [
        "# 2nd neural network with different settings\n",
        "nn2 = MLPClassifier(solver='sgd', hidden_layer_sizes=(3,), max_iter=1500, random_state=1234)\n",
        "nn2.fit(X_train_scaled, y_train)\n",
        "print(nn2.score(X_train_scaled, y_train))"
      ],
      "metadata": {
        "colab": {
          "base_uri": "https://localhost:8080/"
        },
        "id": "0bFqVubwD2Tm",
        "outputId": "aec08e9d-540a-4621-f2df-abcda8028c66"
      },
      "execution_count": null,
      "outputs": [
        {
          "output_type": "stream",
          "name": "stdout",
          "text": [
            "0.8778135048231511\n"
          ]
        }
      ]
    },
    {
      "cell_type": "code",
      "source": [
        "# test\n",
        "pred4 = nn2.predict(X_test_scaled)\n",
        "\n",
        "# evaluate\n",
        "print('Accuracy = ', accuracy_score(y_test, pred4))\n",
        "print('Precision = ', precision_score(y_test, pred4))\n",
        "print('Recall = ', recall_score(y_test, pred4))\n",
        "print('F1 = ', f1_score(y_test, pred4))"
      ],
      "metadata": {
        "colab": {
          "base_uri": "https://localhost:8080/"
        },
        "id": "sSzbNfVYD56G",
        "outputId": "06b190de-261a-488e-83ff-877be8d66160"
      },
      "execution_count": null,
      "outputs": [
        {
          "output_type": "stream",
          "name": "stdout",
          "text": [
            "Accuracy =  0.9102564102564102\n",
            "Precision =  0.8648648648648649\n",
            "Recall =  0.9411764705882353\n",
            "F1 =  0.9014084507042254\n"
          ]
        }
      ]
    },
    {
      "cell_type": "code",
      "source": [
        "# classification report\n",
        "print(classification_report(y_test, pred4))"
      ],
      "metadata": {
        "colab": {
          "base_uri": "https://localhost:8080/"
        },
        "id": "_G9BMfBSTJzE",
        "outputId": "5f926df2-ef61-4677-e1c0-d9b27fee6bc8"
      },
      "execution_count": null,
      "outputs": [
        {
          "output_type": "stream",
          "name": "stdout",
          "text": [
            "              precision    recall  f1-score   support\n",
            "\n",
            "           0       0.95      0.89      0.92        44\n",
            "           1       0.86      0.94      0.90        34\n",
            "\n",
            "    accuracy                           0.91        78\n",
            "   macro avg       0.91      0.91      0.91        78\n",
            "weighted avg       0.91      0.91      0.91        78\n",
            "\n"
          ]
        }
      ]
    },
    {
      "cell_type": "markdown",
      "source": [
        "The second neural network had 91% accuracy, while the first one had 88% accuracy, which was a result of the max number of iterations. The reason why the second neural network performed better was because it had only one hidden layer, compared to the two hidden layers that the first one had."
      ],
      "metadata": {
        "id": "qIyWGyCvRgXA"
      }
    },
    {
      "cell_type": "markdown",
      "source": [
        "#Analysis"
      ],
      "metadata": {
        "id": "SIdYzVTicfy9"
      }
    },
    {
      "cell_type": "markdown",
      "source": [
        "## Which algorithm performed better?\n",
        "The neural network algorithm."
      ],
      "metadata": {
        "id": "jbwxmvVmRqKf"
      }
    },
    {
      "cell_type": "markdown",
      "source": [
        "## Comparing accuracy, recall, and precision metrics by class\n",
        "With an accuracy and precision of 92% and 95% respectively, class 0 was higher than class 1, which had an accuracy of 90% and precision of 86%. On the other hand, class 0 had a recall of 89% which was lower than class 1's 94%."
      ],
      "metadata": {
        "id": "sLVOQcs-1vkW"
      }
    },
    {
      "cell_type": "markdown",
      "source": [
        "## Why did the neural network algorithm outperform the others?\n",
        "The reason why the neural networks outperformed the others is because, unlike the traditional ML models, the neural networks can make predictions of unseen data and can forecast data better."
      ],
      "metadata": {
        "id": "dtG84uhu1xx6"
      }
    },
    {
      "cell_type": "markdown",
      "source": [
        "##Comparing my experiences using R versus sklearn\n",
        "Compared to R, sklearn was much faster during runtime, which made it easier for models and data prediction. Along with that, the environment that Google Colab provides seemed a bit more readable and traditional compared to RStudio. Although I liked a lot of the built-in functions in R and the ability to generate pdfs quicker, I feel Python with sklearn is a better option to use."
      ],
      "metadata": {
        "id": "CAdTBLUi1zvh"
      }
    }
  ]
}